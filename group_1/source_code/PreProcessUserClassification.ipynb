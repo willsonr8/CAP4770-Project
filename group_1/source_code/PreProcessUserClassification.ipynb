{
 "cells": [
  {
   "cell_type": "code",
   "execution_count": 17,
   "id": "59e8d3cd-0877-4013-b996-9c3cc716256c",
   "metadata": {},
   "outputs": [],
   "source": [
    "import pandas as pd\n",
    "import os\n",
    "import numpy as np\n",
    "import scipy\n",
    "from scipy.special import expit\n",
    "import seaborn as sns\n",
    "import matplotlib.pyplot as plt\n",
    "import sklearn\n",
    "from sklearn.ensemble import RandomForestClassifier, HistGradientBoostingClassifier\n",
    "from sklearn.model_selection import cross_val_score, StratifiedKFold\n",
    "from sklearn.metrics import accuracy_score, roc_auc_score, f1_score, confusion_matrix\n",
    "from sklearn.metrics import classification_report, precision_score, recall_score\n",
    "import pyspark\n",
    "from pathlib import Path\n",
    "import csv\n",
    "import datetime\n",
    "import statistics\n",
    "import xgboost as xgb\n",
    "from xgboost import XGBClassifier\n",
    "from shiny import App, ui, render, reactive, run_app\n",
    "from shinywidgets import output_widget, render_widget\n",
    "import ipyleaflet as ipyl"
   ]
  },
  {
   "cell_type": "code",
   "execution_count": 18,
   "id": "3b4df6f3-a34c-4f54-95cc-3edc9891d85c",
   "metadata": {},
   "outputs": [],
   "source": [
    "# Preprocessing"
   ]
  },
  {
   "cell_type": "code",
   "execution_count": 22,
   "id": "c093a0f2",
   "metadata": {},
   "outputs": [],
   "source": [
    "patient_folder = Path(r\"../Datasets/glucdict-1/Glucdict Dataset\")\n",
    "nhanes_folder = Path(r\"E:/OneDrive/Documents/Courses/Intro_Data_Science/\")"
   ]
  },
  {
   "cell_type": "markdown",
   "id": "5e9d3c0a",
   "metadata": {},
   "source": [
    "## Load all the sensor data for each user first since that is more complicated.\n",
    "#### We won't use the phone activity files since not every patient has it"
   ]
  },
  {
   "cell_type": "code",
   "execution_count": 23,
   "id": "d9317822",
   "metadata": {},
   "outputs": [],
   "source": [
    "# after doing some data exploration, it was discovered that one of the sensor files has bad rows at the beginning \n",
    "# which just say plugged out and plugged in but an improper number of columns\n",
    "\n",
    "def clean_first_two_lines_if_malformed(file_path, expected_columns=5):\n",
    "    \"\"\"\n",
    "    Checks the first two lines of a file and removes them if they have fewer than expected_columns.\n",
    "    Overwrites the file in place with corrected content.\n",
    "    \"\"\"\n",
    "    try:\n",
    "        with open(file_path, 'r', encoding='utf-8', errors='ignore') as f:\n",
    "            lines = f.readlines()\n",
    "\n",
    "        # Check how many columns each line has\n",
    "        cleaned_lines = []\n",
    "        for i, line in enumerate(lines):\n",
    "            if i < 2:\n",
    "                if len(line.strip().split(',')) < expected_columns:\n",
    "                    continue  # skip malformed line\n",
    "            cleaned_lines.append(line)\n",
    "\n",
    "        # Write cleaned lines back to the same file\n",
    "        with open(file_path, 'w', encoding='utf-8') as f:\n",
    "            f.writelines(cleaned_lines)\n",
    "\n",
    "        print(f\"[CLEANED] {file_path}: Removed malformed lines.\")\n",
    "    except Exception as e:\n",
    "        print(f\"[ERROR] Could not clean {file_path}: {e}\")\n"
   ]
  },
  {
   "cell_type": "code",
   "execution_count": 24,
   "id": "6830400a",
   "metadata": {},
   "outputs": [
    {
     "name": "stdout",
     "output_type": "stream",
     "text": [
      "[CLEANED] ..\\Datasets\\glucdict-1\\Glucdict Dataset\\User10\\Watch\\10_SensorReader.csv: Removed malformed lines.\n"
     ]
    }
   ],
   "source": [
    "clean_first_two_lines_if_malformed(os.path.join(patient_folder,r'User10\\Watch\\10_SensorReader.csv'))"
   ]
  },
  {
   "cell_type": "code",
   "execution_count": 25,
   "id": "5380eab9",
   "metadata": {},
   "outputs": [],
   "source": [
    "sensor_map = {\n",
    "    1:  \"ACCELEROMETER\",\n",
    "    2:  \"MAGNETIC_FIELD\",\n",
    "    4:  \"GYROSCOPE\",\n",
    "    9:  \"GRAVITY\",\n",
    "    10: \"LINEAR_ACCELERATION\",\n",
    "    11: \"ROTATION_VECTOR\",\n",
    "    18: \"STEP_DETECTOR\",\n",
    "    19: \"STEP_COUNTER\",\n",
    "    21: \"HEART_RATE\",\n",
    "    99: \"EARTH_ACC\"\n",
    "}\n",
    "\n",
    "\n",
    "def load_user_sensor_data(user_id, patient_folder):\n",
    "    \"\"\"\n",
    "    Robustly loads and concatenates all sensor data CSV files containing 'SensorReader' \n",
    "    from a user's folder (including Phone/Sensors and Watch), adds a user_id column.\n",
    "    Filters out malformed lines and handles large files line by line.\n",
    "    \"\"\"\n",
    "    user_path = os.path.join(patient_folder, user_id)\n",
    "    sensor_dfs = []\n",
    "\n",
    "    for root, _, files in os.walk(user_path):\n",
    "        for file in files:\n",
    "            if \"SensorReader\" in file and file.endswith(\".csv\"):\n",
    "                file_path = os.path.join(root, file)\n",
    "                try:\n",
    "                    df = pd.read_csv(\n",
    "                        file_path,\n",
    "                        header=None,\n",
    "                        engine='python',\n",
    "                        on_bad_lines='skip',\n",
    "                        dtype=str\n",
    "                    )\n",
    "                    if df.shape[1] == 5:\n",
    "                        df.columns = ['sensor', 'timestamp', 'x', 'y', 'z']\n",
    "                        df['sensor'] = pd.to_numeric(df['sensor'], errors='coerce').map(sensor_map).fillna(df['sensor'])\n",
    "                        df['user_id'] = user_id\n",
    "                        df['timestamp'] = pd.to_datetime(pd.to_numeric(df['timestamp'], errors='coerce'), unit='ms', errors='coerce')\n",
    "                        for col in ['x', 'y', 'z']:\n",
    "                            df[col] = pd.to_numeric(df[col], errors='coerce')\n",
    "                        sensor_dfs.append(df)\n",
    "                except Exception as e:\n",
    "                    print(f\"[ERROR] Failed to process {file_path}: {e}\")\n",
    "\n",
    "    if not sensor_dfs:\n",
    "        return pd.DataFrame()\n",
    "\n",
    "    return pd.concat(sensor_dfs, ignore_index=True)"
   ]
  },
  {
   "cell_type": "code",
   "execution_count": 26,
   "id": "4c1d901e",
   "metadata": {},
   "outputs": [
    {
     "data": {
      "text/html": [
       "<div>\n",
       "<style scoped>\n",
       "    .dataframe tbody tr th:only-of-type {\n",
       "        vertical-align: middle;\n",
       "    }\n",
       "\n",
       "    .dataframe tbody tr th {\n",
       "        vertical-align: top;\n",
       "    }\n",
       "\n",
       "    .dataframe thead th {\n",
       "        text-align: right;\n",
       "    }\n",
       "</style>\n",
       "<table border=\"1\" class=\"dataframe\">\n",
       "  <thead>\n",
       "    <tr style=\"text-align: right;\">\n",
       "      <th></th>\n",
       "      <th>sensor</th>\n",
       "      <th>timestamp</th>\n",
       "      <th>x</th>\n",
       "      <th>y</th>\n",
       "      <th>z</th>\n",
       "      <th>user_id</th>\n",
       "    </tr>\n",
       "  </thead>\n",
       "  <tbody>\n",
       "    <tr>\n",
       "      <th>0</th>\n",
       "      <td>ACCELEROMETER</td>\n",
       "      <td>2021-11-29 06:32:26.110</td>\n",
       "      <td>1.626</td>\n",
       "      <td>1.803</td>\n",
       "      <td>9.638</td>\n",
       "      <td>User1</td>\n",
       "    </tr>\n",
       "    <tr>\n",
       "      <th>1</th>\n",
       "      <td>GYROSCOPE</td>\n",
       "      <td>2021-11-29 06:32:26.158</td>\n",
       "      <td>-0.019</td>\n",
       "      <td>0.013</td>\n",
       "      <td>-0.020</td>\n",
       "      <td>User1</td>\n",
       "    </tr>\n",
       "    <tr>\n",
       "      <th>2</th>\n",
       "      <td>MAGNETIC_FIELD</td>\n",
       "      <td>2021-11-29 06:32:26.129</td>\n",
       "      <td>169.326</td>\n",
       "      <td>-141.762</td>\n",
       "      <td>-65.010</td>\n",
       "      <td>User1</td>\n",
       "    </tr>\n",
       "    <tr>\n",
       "      <th>3</th>\n",
       "      <td>GYROSCOPE</td>\n",
       "      <td>2021-11-29 06:32:26.311</td>\n",
       "      <td>-0.012</td>\n",
       "      <td>0.001</td>\n",
       "      <td>0.017</td>\n",
       "      <td>User1</td>\n",
       "    </tr>\n",
       "    <tr>\n",
       "      <th>4</th>\n",
       "      <td>MAGNETIC_FIELD</td>\n",
       "      <td>2021-11-29 06:32:26.225</td>\n",
       "      <td>213.658</td>\n",
       "      <td>-261.143</td>\n",
       "      <td>-37.326</td>\n",
       "      <td>User1</td>\n",
       "    </tr>\n",
       "  </tbody>\n",
       "</table>\n",
       "</div>"
      ],
      "text/plain": [
       "           sensor               timestamp        x        y       z user_id\n",
       "0   ACCELEROMETER 2021-11-29 06:32:26.110    1.626    1.803   9.638   User1\n",
       "1       GYROSCOPE 2021-11-29 06:32:26.158   -0.019    0.013  -0.020   User1\n",
       "2  MAGNETIC_FIELD 2021-11-29 06:32:26.129  169.326 -141.762 -65.010   User1\n",
       "3       GYROSCOPE 2021-11-29 06:32:26.311   -0.012    0.001   0.017   User1\n",
       "4  MAGNETIC_FIELD 2021-11-29 06:32:26.225  213.658 -261.143 -37.326   User1"
      ]
     },
     "execution_count": 26,
     "metadata": {},
     "output_type": "execute_result"
    }
   ],
   "source": [
    "# for example:\n",
    "test1 = load_user_sensor_data('User1', patient_folder)\n",
    "test1.head()"
   ]
  },
  {
   "cell_type": "code",
   "execution_count": 27,
   "id": "a90a65ec",
   "metadata": {},
   "outputs": [],
   "source": [
    "def extract_sensor_features(df, accel_movement_threshold=1.2):\n",
    "    \"\"\"\n",
    "    Extracts per-user features from 3-axis sensor data, heart rate, and step detector.\n",
    "    Includes:\n",
    "    - Mean/std/min/max/median magnitude for each 3-axis sensor\n",
    "    - Percent time moving from accelerometer\n",
    "    - Average daily steps from STEP_DETECTOR\n",
    "    - Resting HR, mean HR, and time in personalized HR zones from HEART_RATE\n",
    "\n",
    "    Parameters:\n",
    "        df: DataFrame with columns ['sensor', 'timestamp', 'x', 'y', 'z', 'user_id']\n",
    "        accel_movement_threshold: float, magnitude threshold to count as 'moving'\n",
    "    Returns:\n",
    "        DataFrame with one row per user, features per sensor\n",
    "    \"\"\"\n",
    "    feature_list = []\n",
    "\n",
    "    # Ensure x, y, z are numeric\n",
    "    for col in ['x', 'y', 'z']:\n",
    "        if col in df.columns:\n",
    "            df[col] = pd.to_numeric(df[col], errors='coerce')\n",
    "\n",
    "    for sensor in df['sensor'].unique():\n",
    "        sensor_str = str(sensor).strip().upper()\n",
    "        if sensor_str not in ['ACCELEROMETER', 'GYROSCOPE', 'MAGNETIC_FIELD', 'GRAVITY']:\n",
    "            continue\n",
    "\n",
    "        sensor_df = df[df['sensor'].str.strip().str.upper() == sensor_str].copy()\n",
    "        sensor_df['magnitude'] = np.sqrt(sensor_df['x']**2 + sensor_df['y']**2 + sensor_df['z']**2)\n",
    "\n",
    "        grouped = sensor_df.groupby('user_id')['magnitude']\n",
    "        features = grouped.agg(['mean', 'std', 'min', 'max', 'median'])\n",
    "        features.columns = [f\"{sensor_str.lower()}_{col}\" for col in features.columns]\n",
    "\n",
    "        if sensor_str == 'ACCELEROMETER':\n",
    "            move_counts = sensor_df.groupby('user_id').apply(\n",
    "                lambda g: (g['magnitude'] > accel_movement_threshold).sum()\n",
    "            )\n",
    "            total_counts = sensor_df.groupby('user_id').size()\n",
    "            percent_moving = (move_counts / total_counts).fillna(0)\n",
    "            features[f\"{sensor_str.lower()}_percent_time_moving\"] = percent_moving\n",
    "\n",
    "        feature_list.append(features)\n",
    "    if not feature_list:\n",
    "        feature_df =  pd.DataFrame({'user_id': df['user_id'].unique()})\n",
    "    else:\n",
    "        feature_df = pd.concat(feature_list, axis=1).reset_index()\n",
    "\n",
    "    if any(str(s).strip().upper() == 'STEP_DETECTOR' for s in df['sensor'].unique()):\n",
    "        step_df = df[df['sensor'] == 'STEP_DETECTOR'].copy()\n",
    "        step_df['timestamp'] = pd.to_datetime(step_df['timestamp'])\n",
    "        step_df['date'] = step_df['timestamp'].dt.date\n",
    "\n",
    "        daily_steps = step_df.groupby(['user_id', 'date']).size().reset_index(name='steps')\n",
    "        avg_daily_steps = daily_steps.groupby('user_id')['steps'].mean().rename('avg_daily_steps')\n",
    "        feature_df = feature_df.merge(avg_daily_steps.reset_index(), on='user_id', how='left')\n",
    "\n",
    "    if any(str(s).strip().upper() == 'HEART_RATE' for s in df['sensor'].unique()):\n",
    "        hr_df = df[df['sensor'] == 'HEART_RATE'].copy()\n",
    "        hr_df = hr_df.rename(columns={'x': 'bpm'})\n",
    "        hr_df['bpm'] = pd.to_numeric(hr_df['bpm'], errors='coerce')\n",
    "        hr_df = hr_df[(hr_df['bpm'] >= 30) & (hr_df['bpm'] <= 220)]\n",
    "\n",
    "        def personalized_zone_counts(group):\n",
    "            resting = np.percentile(group['bpm'], 5)\n",
    "            adj_ratio = group['bpm'] / resting\n",
    "            total = len(group)\n",
    "            return pd.Series({\n",
    "                'hr_zone_rest': (adj_ratio < 1.0).sum() / total,\n",
    "                'hr_zone_light': ((adj_ratio >= 1.0) & (adj_ratio < 1.25)).sum() / total,\n",
    "                'hr_zone_moderate': ((adj_ratio >= 1.25) & (adj_ratio < 1.5)).sum() / total,\n",
    "                'hr_zone_vigorous': ((adj_ratio >= 1.5) & (adj_ratio < 1.75)).sum() / total,\n",
    "                'hr_zone_max': (adj_ratio >= 1.75).sum() / total,\n",
    "                'resting_hr': resting\n",
    "            })\n",
    "\n",
    "        hr_zones = hr_df.groupby('user_id').apply(personalized_zone_counts)\n",
    "        hr_summary = hr_df.groupby('user_id')['bpm'].mean().rename('mean_hr')\n",
    "        hr_features = pd.concat([hr_zones, hr_summary], axis=1).reset_index()\n",
    "        feature_df = feature_df.merge(hr_features, on='user_id', how='left')\n",
    "\n",
    "    return feature_df"
   ]
  },
  {
   "cell_type": "code",
   "execution_count": 28,
   "id": "e4ac8310",
   "metadata": {},
   "outputs": [
    {
     "name": "stderr",
     "output_type": "stream",
     "text": [
      "C:\\Users\\wills\\AppData\\Local\\Temp\\ipykernel_16276\\1912712736.py:36: DeprecationWarning: DataFrameGroupBy.apply operated on the grouping columns. This behavior is deprecated, and in a future version of pandas the grouping columns will be excluded from the operation. Either pass `include_groups=False` to exclude the groupings or explicitly select the grouping columns after groupby to silence this warning.\n",
      "  move_counts = sensor_df.groupby('user_id').apply(\n",
      "C:\\Users\\wills\\AppData\\Local\\Temp\\ipykernel_16276\\1912712736.py:77: DeprecationWarning: DataFrameGroupBy.apply operated on the grouping columns. This behavior is deprecated, and in a future version of pandas the grouping columns will be excluded from the operation. Either pass `include_groups=False` to exclude the groupings or explicitly select the grouping columns after groupby to silence this warning.\n",
      "  hr_zones = hr_df.groupby('user_id').apply(personalized_zone_counts)\n"
     ]
    },
    {
     "data": {
      "text/html": [
       "<div>\n",
       "<style scoped>\n",
       "    .dataframe tbody tr th:only-of-type {\n",
       "        vertical-align: middle;\n",
       "    }\n",
       "\n",
       "    .dataframe tbody tr th {\n",
       "        vertical-align: top;\n",
       "    }\n",
       "\n",
       "    .dataframe thead th {\n",
       "        text-align: right;\n",
       "    }\n",
       "</style>\n",
       "<table border=\"1\" class=\"dataframe\">\n",
       "  <thead>\n",
       "    <tr style=\"text-align: right;\">\n",
       "      <th></th>\n",
       "      <th>user_id</th>\n",
       "      <th>accelerometer_mean</th>\n",
       "      <th>accelerometer_std</th>\n",
       "      <th>accelerometer_min</th>\n",
       "      <th>accelerometer_max</th>\n",
       "      <th>accelerometer_median</th>\n",
       "      <th>accelerometer_percent_time_moving</th>\n",
       "      <th>gyroscope_mean</th>\n",
       "      <th>gyroscope_std</th>\n",
       "      <th>gyroscope_min</th>\n",
       "      <th>...</th>\n",
       "      <th>magnetic_field_max</th>\n",
       "      <th>magnetic_field_median</th>\n",
       "      <th>avg_daily_steps</th>\n",
       "      <th>hr_zone_rest</th>\n",
       "      <th>hr_zone_light</th>\n",
       "      <th>hr_zone_moderate</th>\n",
       "      <th>hr_zone_vigorous</th>\n",
       "      <th>hr_zone_max</th>\n",
       "      <th>resting_hr</th>\n",
       "      <th>mean_hr</th>\n",
       "    </tr>\n",
       "  </thead>\n",
       "  <tbody>\n",
       "    <tr>\n",
       "      <th>0</th>\n",
       "      <td>User1</td>\n",
       "      <td>9.940485</td>\n",
       "      <td>1.456082</td>\n",
       "      <td>0.237895</td>\n",
       "      <td>133.557619</td>\n",
       "      <td>9.783041</td>\n",
       "      <td>0.999975</td>\n",
       "      <td>0.559347</td>\n",
       "      <td>1.021973</td>\n",
       "      <td>0.0</td>\n",
       "      <td>...</td>\n",
       "      <td>172631.880674</td>\n",
       "      <td>45.579995</td>\n",
       "      <td>11611.636364</td>\n",
       "      <td>0.049986</td>\n",
       "      <td>0.392288</td>\n",
       "      <td>0.368355</td>\n",
       "      <td>0.143496</td>\n",
       "      <td>0.045875</td>\n",
       "      <td>68.729</td>\n",
       "      <td>90.380149</td>\n",
       "    </tr>\n",
       "  </tbody>\n",
       "</table>\n",
       "<p>1 rows × 25 columns</p>\n",
       "</div>"
      ],
      "text/plain": [
       "  user_id  accelerometer_mean  accelerometer_std  accelerometer_min  \\\n",
       "0   User1            9.940485           1.456082           0.237895   \n",
       "\n",
       "   accelerometer_max  accelerometer_median  accelerometer_percent_time_moving  \\\n",
       "0         133.557619              9.783041                           0.999975   \n",
       "\n",
       "   gyroscope_mean  gyroscope_std  gyroscope_min  ...  magnetic_field_max  \\\n",
       "0        0.559347       1.021973            0.0  ...       172631.880674   \n",
       "\n",
       "   magnetic_field_median  avg_daily_steps  hr_zone_rest  hr_zone_light  \\\n",
       "0              45.579995     11611.636364      0.049986       0.392288   \n",
       "\n",
       "   hr_zone_moderate  hr_zone_vigorous  hr_zone_max  resting_hr    mean_hr  \n",
       "0          0.368355          0.143496     0.045875      68.729  90.380149  \n",
       "\n",
       "[1 rows x 25 columns]"
      ]
     },
     "execution_count": 28,
     "metadata": {},
     "output_type": "execute_result"
    }
   ],
   "source": [
    "# as another example:\n",
    "test2 = extract_sensor_features(test1)\n",
    "test2.head()"
   ]
  },
  {
   "cell_type": "code",
   "execution_count": 29,
   "id": "a29cdf8b",
   "metadata": {},
   "outputs": [
    {
     "data": {
      "text/plain": [
       "Index(['user_id', 'accelerometer_mean', 'accelerometer_std',\n",
       "       'accelerometer_min', 'accelerometer_max', 'accelerometer_median',\n",
       "       'accelerometer_percent_time_moving', 'gyroscope_mean', 'gyroscope_std',\n",
       "       'gyroscope_min', 'gyroscope_max', 'gyroscope_median',\n",
       "       'magnetic_field_mean', 'magnetic_field_std', 'magnetic_field_min',\n",
       "       'magnetic_field_max', 'magnetic_field_median', 'avg_daily_steps',\n",
       "       'hr_zone_rest', 'hr_zone_light', 'hr_zone_moderate', 'hr_zone_vigorous',\n",
       "       'hr_zone_max', 'resting_hr', 'mean_hr'],\n",
       "      dtype='object')"
      ]
     },
     "execution_count": 29,
     "metadata": {},
     "output_type": "execute_result"
    }
   ],
   "source": [
    "test2.columns"
   ]
  },
  {
   "cell_type": "markdown",
   "id": "0f75910a",
   "metadata": {},
   "source": [
    "## Next we get the glucose data"
   ]
  },
  {
   "cell_type": "code",
   "execution_count": 30,
   "id": "85e53b1b",
   "metadata": {},
   "outputs": [],
   "source": [
    "def load_user_glucose_data(user_id, patient_folder):\n",
    "    \"\"\"\n",
    "    Loads glucose readings for a given user from their 'Glucose' subfolder.\n",
    "    Returns a cleaned DataFrame with standardized columns and parsed timestamps.\n",
    "    \"\"\"\n",
    "\n",
    "    user_path = os.path.join(patient_folder, user_id, \"Glucose\")\n",
    "    \n",
    "    if not os.path.exists(user_path):\n",
    "        print(f\"[WARN] Glucose folder not found for user: {user_id}\")\n",
    "        return pd.DataFrame()\n",
    "    \n",
    "    glucose_dfs = []\n",
    "\n",
    "    for file in os.listdir(user_path):\n",
    "        if file.endswith(\".csv\"):\n",
    "            file_path = os.path.join(user_path, file)\n",
    "            try:\n",
    "                df = pd.read_csv(file_path)\n",
    "\n",
    "                # Rename and parse\n",
    "                df = df.rename(columns={\n",
    "                    'Timestamp (YYYY-MM-DDThh:mm:ss)': 'timestamp',\n",
    "                    'Glucose Value (mg/dL)': 'glucose_mg_dl'\n",
    "                })\n",
    "                df['timestamp'] = pd.to_datetime(df['timestamp'], errors='coerce')\n",
    "                df['user_id'] = user_id\n",
    "\n",
    "                # Optional cleanup\n",
    "                df = df[['timestamp', 'glucose_mg_dl', 'Transmitter Time (Long Integer)', 'Transmitter ID', 'user_id']]\n",
    "                glucose_dfs.append(df)\n",
    "\n",
    "            except Exception as e:\n",
    "                print(f\"[ERROR] Failed to read {file_path}: {e}\")\n",
    "    \n",
    "    if not glucose_dfs:\n",
    "        print(f\"[INFO] No glucose CSVs found for user {user_id}\")\n",
    "        return pd.DataFrame()\n",
    "    \n",
    "    combined_glucose = pd.concat(glucose_dfs, ignore_index=True)\n",
    "    return combined_glucose"
   ]
  },
  {
   "cell_type": "code",
   "execution_count": 31,
   "id": "fd8b5049",
   "metadata": {},
   "outputs": [],
   "source": [
    "def extract_glucose_features(glucose_df):\n",
    "    \"\"\"\n",
    "    Extracts glucose features per user:\n",
    "    - average glucose\n",
    "    - IQR of glucose values\n",
    "    - mean absolute rate of change (ROC)\n",
    "    - number of hours per week with at least one hypo (<70) or hyper (>250) event\n",
    "    - total time in minutes per day with glucose above 180\n",
    "    \"\"\"\n",
    "    glucose_df = glucose_df.copy()\n",
    "    glucose_df['timestamp'] = pd.to_datetime(glucose_df['timestamp'], errors='coerce')\n",
    "    glucose_df['glucose_mg_dl'] = pd.to_numeric(glucose_df['glucose_mg_dl'], errors='coerce')\n",
    "    glucose_df = glucose_df.dropna(subset=['timestamp', 'glucose_mg_dl'])\n",
    "    glucose_df = glucose_df.sort_values(['user_id', 'timestamp'])\n",
    "\n",
    "    features = []\n",
    "\n",
    "    for user, group in glucose_df.groupby('user_id'):\n",
    "        if group.shape[0] < 2:\n",
    "            continue\n",
    "\n",
    "        group = group.copy()\n",
    "        group['delta_glucose'] = group['glucose_mg_dl'].diff()\n",
    "        group['delta_time_min'] = group['timestamp'].diff().dt.total_seconds() / 60.0\n",
    "        group['roc'] = (group['delta_glucose'] / group['delta_time_min']).abs()\n",
    "\n",
    "        avg_glucose = group['glucose_mg_dl'].mean()\n",
    "        iqr = group['glucose_mg_dl'].quantile(0.75) - group['glucose_mg_dl'].quantile(0.25)\n",
    "        mean_roc = group['roc'].replace([np.inf, -np.inf], np.nan).dropna().mean()\n",
    "\n",
    "        group['week'] = group['timestamp'].dt.isocalendar().week\n",
    "        group['hour'] = group['timestamp'].dt.floor('H')\n",
    "\n",
    "        hypo_hours = group[group['glucose_mg_dl'] < 70].drop_duplicates(subset=['week', 'hour'])\n",
    "        hyper_hours = group[group['glucose_mg_dl'] > 250].drop_duplicates(subset=['week', 'hour'])\n",
    "\n",
    "        hypo_counts = hypo_hours.groupby('week').size().mean()\n",
    "        hyper_counts = hyper_hours.groupby('week').size().mean()\n",
    "\n",
    "        group['date'] = group['timestamp'].dt.date\n",
    "        group['delta_time_min'] = group['delta_time_min'].replace([np.inf, -np.inf], np.nan).fillna(0)\n",
    "        high_glucose_minutes = group[group['glucose_mg_dl'] > 180].groupby('date')['delta_time_min'].sum()\n",
    "        avg_daily_high_glucose_time = high_glucose_minutes.replace([np.inf, -np.inf], np.nan).dropna().mean()\n",
    "\n",
    "        features.append({\n",
    "            'user_id': user,\n",
    "            'glucose_mean': avg_glucose,\n",
    "            'glucose_iqr': iqr,\n",
    "            'glucose_mean_roc': mean_roc,\n",
    "            'avg_weekly_hypo_hours': hypo_counts if pd.notna(hypo_counts) else 0,\n",
    "            'avg_weekly_hyper_hours': hyper_counts if pd.notna(hyper_counts) else 0,\n",
    "            'avg_daily_minutes_above_180': avg_daily_high_glucose_time if pd.notna(avg_daily_high_glucose_time) else 0\n",
    "        })\n",
    "\n",
    "    return pd.DataFrame(features)"
   ]
  },
  {
   "cell_type": "code",
   "execution_count": 32,
   "id": "1a2891e5",
   "metadata": {},
   "outputs": [],
   "source": [
    "test3 = load_user_glucose_data('User4',patient_folder)"
   ]
  },
  {
   "cell_type": "code",
   "execution_count": 33,
   "id": "ab859465",
   "metadata": {},
   "outputs": [
    {
     "data": {
      "text/html": [
       "<div>\n",
       "<style scoped>\n",
       "    .dataframe tbody tr th:only-of-type {\n",
       "        vertical-align: middle;\n",
       "    }\n",
       "\n",
       "    .dataframe tbody tr th {\n",
       "        vertical-align: top;\n",
       "    }\n",
       "\n",
       "    .dataframe thead th {\n",
       "        text-align: right;\n",
       "    }\n",
       "</style>\n",
       "<table border=\"1\" class=\"dataframe\">\n",
       "  <thead>\n",
       "    <tr style=\"text-align: right;\">\n",
       "      <th></th>\n",
       "      <th>timestamp</th>\n",
       "      <th>glucose_mg_dl</th>\n",
       "      <th>Transmitter Time (Long Integer)</th>\n",
       "      <th>Transmitter ID</th>\n",
       "      <th>user_id</th>\n",
       "    </tr>\n",
       "  </thead>\n",
       "  <tbody>\n",
       "    <tr>\n",
       "      <th>0</th>\n",
       "      <td>2021-11-10 19:22:57</td>\n",
       "      <td>110</td>\n",
       "      <td>7574</td>\n",
       "      <td>8TCMS8</td>\n",
       "      <td>User4</td>\n",
       "    </tr>\n",
       "    <tr>\n",
       "      <th>1</th>\n",
       "      <td>2021-11-10 19:27:57</td>\n",
       "      <td>108</td>\n",
       "      <td>7874</td>\n",
       "      <td>8TCMS8</td>\n",
       "      <td>User4</td>\n",
       "    </tr>\n",
       "    <tr>\n",
       "      <th>2</th>\n",
       "      <td>2021-11-10 19:32:57</td>\n",
       "      <td>98</td>\n",
       "      <td>8174</td>\n",
       "      <td>8TCMS8</td>\n",
       "      <td>User4</td>\n",
       "    </tr>\n",
       "    <tr>\n",
       "      <th>3</th>\n",
       "      <td>2021-11-10 19:37:57</td>\n",
       "      <td>92</td>\n",
       "      <td>8474</td>\n",
       "      <td>8TCMS8</td>\n",
       "      <td>User4</td>\n",
       "    </tr>\n",
       "    <tr>\n",
       "      <th>4</th>\n",
       "      <td>2021-11-10 19:42:58</td>\n",
       "      <td>88</td>\n",
       "      <td>8774</td>\n",
       "      <td>8TCMS8</td>\n",
       "      <td>User4</td>\n",
       "    </tr>\n",
       "  </tbody>\n",
       "</table>\n",
       "</div>"
      ],
      "text/plain": [
       "            timestamp glucose_mg_dl  Transmitter Time (Long Integer)  \\\n",
       "0 2021-11-10 19:22:57           110                             7574   \n",
       "1 2021-11-10 19:27:57           108                             7874   \n",
       "2 2021-11-10 19:32:57            98                             8174   \n",
       "3 2021-11-10 19:37:57            92                             8474   \n",
       "4 2021-11-10 19:42:58            88                             8774   \n",
       "\n",
       "  Transmitter ID user_id  \n",
       "0         8TCMS8   User4  \n",
       "1         8TCMS8   User4  \n",
       "2         8TCMS8   User4  \n",
       "3         8TCMS8   User4  \n",
       "4         8TCMS8   User4  "
      ]
     },
     "execution_count": 33,
     "metadata": {},
     "output_type": "execute_result"
    }
   ],
   "source": [
    "test3.head()"
   ]
  },
  {
   "cell_type": "code",
   "execution_count": 34,
   "id": "55ca2dca",
   "metadata": {},
   "outputs": [
    {
     "name": "stderr",
     "output_type": "stream",
     "text": [
      "C:\\Users\\wills\\AppData\\Local\\Temp\\ipykernel_16276\\3166670950.py:32: FutureWarning: 'H' is deprecated and will be removed in a future version, please use 'h' instead.\n",
      "  group['hour'] = group['timestamp'].dt.floor('H')\n"
     ]
    },
    {
     "data": {
      "text/html": [
       "<div>\n",
       "<style scoped>\n",
       "    .dataframe tbody tr th:only-of-type {\n",
       "        vertical-align: middle;\n",
       "    }\n",
       "\n",
       "    .dataframe tbody tr th {\n",
       "        vertical-align: top;\n",
       "    }\n",
       "\n",
       "    .dataframe thead th {\n",
       "        text-align: right;\n",
       "    }\n",
       "</style>\n",
       "<table border=\"1\" class=\"dataframe\">\n",
       "  <thead>\n",
       "    <tr style=\"text-align: right;\">\n",
       "      <th></th>\n",
       "      <th>user_id</th>\n",
       "      <th>glucose_mean</th>\n",
       "      <th>glucose_iqr</th>\n",
       "      <th>glucose_mean_roc</th>\n",
       "      <th>avg_weekly_hypo_hours</th>\n",
       "      <th>avg_weekly_hyper_hours</th>\n",
       "      <th>avg_daily_minutes_above_180</th>\n",
       "    </tr>\n",
       "  </thead>\n",
       "  <tbody>\n",
       "    <tr>\n",
       "      <th>0</th>\n",
       "      <td>User4</td>\n",
       "      <td>90.721727</td>\n",
       "      <td>22.0</td>\n",
       "      <td>0.634731</td>\n",
       "      <td>23.0</td>\n",
       "      <td>0</td>\n",
       "      <td>0</td>\n",
       "    </tr>\n",
       "  </tbody>\n",
       "</table>\n",
       "</div>"
      ],
      "text/plain": [
       "  user_id  glucose_mean  glucose_iqr  glucose_mean_roc  avg_weekly_hypo_hours  \\\n",
       "0   User4     90.721727         22.0          0.634731                   23.0   \n",
       "\n",
       "   avg_weekly_hyper_hours  avg_daily_minutes_above_180  \n",
       "0                       0                            0  "
      ]
     },
     "execution_count": 34,
     "metadata": {},
     "output_type": "execute_result"
    }
   ],
   "source": [
    "test4 = extract_glucose_features(test3)\n",
    "test4.head()"
   ]
  },
  {
   "cell_type": "code",
   "execution_count": 37,
   "id": "d6a52e91",
   "metadata": {},
   "outputs": [],
   "source": [
    "def compile_user_features(user_id, patient_folder, output_dir='compiled_users'):\n",
    "    \"\"\"\n",
    "    Extracts features per user and saves each user's features to a separate CSV file in the output directory.\n",
    "    \"\"\"\n",
    "    try:\n",
    "        os.makedirs(output_dir, exist_ok=True)\n",
    "\n",
    "        sensor_df = load_user_sensor_data(user_id, patient_folder)\n",
    "        glucose_df = load_user_glucose_data(user_id, patient_folder)\n",
    "\n",
    "        sensor_features = extract_sensor_features(sensor_df) if not sensor_df.empty else pd.DataFrame({'user_id': [user_id]})\n",
    "        glucose_features = extract_glucose_features(glucose_df) if not glucose_df.empty else pd.DataFrame({'user_id': [user_id]})\n",
    "\n",
    "        combined = pd.merge(sensor_features, glucose_features, on='user_id', how='outer')\n",
    "        output_path = os.path.join(output_dir, f\"{user_id}_features.csv\")\n",
    "        combined.to_csv(output_path, index=False)\n",
    "        print(f\"[✓] Done processing user {user_id}. Saved to {output_path}\")\n",
    "    except Exception as e:\n",
    "        print(f\"[ERROR] Failed processing user {user_id}: {e}\")"
   ]
  },
  {
   "cell_type": "code",
   "execution_count": 40,
   "id": "1f54fde1",
   "metadata": {},
   "outputs": [
    {
     "name": "stderr",
     "output_type": "stream",
     "text": [
      "C:\\Users\\wills\\AppData\\Local\\Temp\\ipykernel_16276\\1912712736.py:36: DeprecationWarning: DataFrameGroupBy.apply operated on the grouping columns. This behavior is deprecated, and in a future version of pandas the grouping columns will be excluded from the operation. Either pass `include_groups=False` to exclude the groupings or explicitly select the grouping columns after groupby to silence this warning.\n",
      "  move_counts = sensor_df.groupby('user_id').apply(\n",
      "C:\\Users\\wills\\AppData\\Local\\Temp\\ipykernel_16276\\1912712736.py:77: DeprecationWarning: DataFrameGroupBy.apply operated on the grouping columns. This behavior is deprecated, and in a future version of pandas the grouping columns will be excluded from the operation. Either pass `include_groups=False` to exclude the groupings or explicitly select the grouping columns after groupby to silence this warning.\n",
      "  hr_zones = hr_df.groupby('user_id').apply(personalized_zone_counts)\n",
      "C:\\Users\\wills\\AppData\\Local\\Temp\\ipykernel_16276\\3166670950.py:32: FutureWarning: 'H' is deprecated and will be removed in a future version, please use 'h' instead.\n",
      "  group['hour'] = group['timestamp'].dt.floor('H')\n"
     ]
    },
    {
     "name": "stdout",
     "output_type": "stream",
     "text": [
      "[✓] Done processing user User1. Saved to ../Datasets/compiled_users\\User1_features.csv\n"
     ]
    },
    {
     "name": "stderr",
     "output_type": "stream",
     "text": [
      "C:\\Users\\wills\\AppData\\Local\\Temp\\ipykernel_16276\\1912712736.py:36: DeprecationWarning: DataFrameGroupBy.apply operated on the grouping columns. This behavior is deprecated, and in a future version of pandas the grouping columns will be excluded from the operation. Either pass `include_groups=False` to exclude the groupings or explicitly select the grouping columns after groupby to silence this warning.\n",
      "  move_counts = sensor_df.groupby('user_id').apply(\n",
      "C:\\Users\\wills\\AppData\\Local\\Temp\\ipykernel_16276\\1912712736.py:77: DeprecationWarning: DataFrameGroupBy.apply operated on the grouping columns. This behavior is deprecated, and in a future version of pandas the grouping columns will be excluded from the operation. Either pass `include_groups=False` to exclude the groupings or explicitly select the grouping columns after groupby to silence this warning.\n",
      "  hr_zones = hr_df.groupby('user_id').apply(personalized_zone_counts)\n",
      "C:\\Users\\wills\\AppData\\Local\\Temp\\ipykernel_16276\\3166670950.py:32: FutureWarning: 'H' is deprecated and will be removed in a future version, please use 'h' instead.\n",
      "  group['hour'] = group['timestamp'].dt.floor('H')\n"
     ]
    },
    {
     "name": "stdout",
     "output_type": "stream",
     "text": [
      "[✓] Done processing user User10. Saved to ../Datasets/compiled_users\\User10_features.csv\n"
     ]
    },
    {
     "name": "stderr",
     "output_type": "stream",
     "text": [
      "C:\\Users\\wills\\AppData\\Local\\Temp\\ipykernel_16276\\1912712736.py:36: DeprecationWarning: DataFrameGroupBy.apply operated on the grouping columns. This behavior is deprecated, and in a future version of pandas the grouping columns will be excluded from the operation. Either pass `include_groups=False` to exclude the groupings or explicitly select the grouping columns after groupby to silence this warning.\n",
      "  move_counts = sensor_df.groupby('user_id').apply(\n",
      "C:\\Users\\wills\\AppData\\Local\\Temp\\ipykernel_16276\\1912712736.py:77: DeprecationWarning: DataFrameGroupBy.apply operated on the grouping columns. This behavior is deprecated, and in a future version of pandas the grouping columns will be excluded from the operation. Either pass `include_groups=False` to exclude the groupings or explicitly select the grouping columns after groupby to silence this warning.\n",
      "  hr_zones = hr_df.groupby('user_id').apply(personalized_zone_counts)\n",
      "C:\\Users\\wills\\AppData\\Local\\Temp\\ipykernel_16276\\3166670950.py:32: FutureWarning: 'H' is deprecated and will be removed in a future version, please use 'h' instead.\n",
      "  group['hour'] = group['timestamp'].dt.floor('H')\n"
     ]
    },
    {
     "name": "stdout",
     "output_type": "stream",
     "text": [
      "[✓] Done processing user User12. Saved to ../Datasets/compiled_users\\User12_features.csv\n"
     ]
    },
    {
     "name": "stderr",
     "output_type": "stream",
     "text": [
      "C:\\Users\\wills\\AppData\\Local\\Temp\\ipykernel_16276\\1912712736.py:36: DeprecationWarning: DataFrameGroupBy.apply operated on the grouping columns. This behavior is deprecated, and in a future version of pandas the grouping columns will be excluded from the operation. Either pass `include_groups=False` to exclude the groupings or explicitly select the grouping columns after groupby to silence this warning.\n",
      "  move_counts = sensor_df.groupby('user_id').apply(\n",
      "C:\\Users\\wills\\AppData\\Local\\Temp\\ipykernel_16276\\1912712736.py:77: DeprecationWarning: DataFrameGroupBy.apply operated on the grouping columns. This behavior is deprecated, and in a future version of pandas the grouping columns will be excluded from the operation. Either pass `include_groups=False` to exclude the groupings or explicitly select the grouping columns after groupby to silence this warning.\n",
      "  hr_zones = hr_df.groupby('user_id').apply(personalized_zone_counts)\n",
      "C:\\Users\\wills\\AppData\\Local\\Temp\\ipykernel_16276\\3166670950.py:32: FutureWarning: 'H' is deprecated and will be removed in a future version, please use 'h' instead.\n",
      "  group['hour'] = group['timestamp'].dt.floor('H')\n"
     ]
    },
    {
     "name": "stdout",
     "output_type": "stream",
     "text": [
      "[✓] Done processing user User13. Saved to ../Datasets/compiled_users\\User13_features.csv\n"
     ]
    },
    {
     "name": "stderr",
     "output_type": "stream",
     "text": [
      "C:\\Users\\wills\\AppData\\Local\\Temp\\ipykernel_16276\\1912712736.py:36: DeprecationWarning: DataFrameGroupBy.apply operated on the grouping columns. This behavior is deprecated, and in a future version of pandas the grouping columns will be excluded from the operation. Either pass `include_groups=False` to exclude the groupings or explicitly select the grouping columns after groupby to silence this warning.\n",
      "  move_counts = sensor_df.groupby('user_id').apply(\n",
      "C:\\Users\\wills\\AppData\\Local\\Temp\\ipykernel_16276\\1912712736.py:77: DeprecationWarning: DataFrameGroupBy.apply operated on the grouping columns. This behavior is deprecated, and in a future version of pandas the grouping columns will be excluded from the operation. Either pass `include_groups=False` to exclude the groupings or explicitly select the grouping columns after groupby to silence this warning.\n",
      "  hr_zones = hr_df.groupby('user_id').apply(personalized_zone_counts)\n",
      "C:\\Users\\wills\\AppData\\Local\\Temp\\ipykernel_16276\\3166670950.py:32: FutureWarning: 'H' is deprecated and will be removed in a future version, please use 'h' instead.\n",
      "  group['hour'] = group['timestamp'].dt.floor('H')\n"
     ]
    },
    {
     "name": "stdout",
     "output_type": "stream",
     "text": [
      "[✓] Done processing user User14. Saved to ../Datasets/compiled_users\\User14_features.csv\n"
     ]
    },
    {
     "name": "stderr",
     "output_type": "stream",
     "text": [
      "C:\\Users\\wills\\AppData\\Local\\Temp\\ipykernel_16276\\1912712736.py:36: DeprecationWarning: DataFrameGroupBy.apply operated on the grouping columns. This behavior is deprecated, and in a future version of pandas the grouping columns will be excluded from the operation. Either pass `include_groups=False` to exclude the groupings or explicitly select the grouping columns after groupby to silence this warning.\n",
      "  move_counts = sensor_df.groupby('user_id').apply(\n",
      "C:\\Users\\wills\\AppData\\Local\\Temp\\ipykernel_16276\\1912712736.py:77: DeprecationWarning: DataFrameGroupBy.apply operated on the grouping columns. This behavior is deprecated, and in a future version of pandas the grouping columns will be excluded from the operation. Either pass `include_groups=False` to exclude the groupings or explicitly select the grouping columns after groupby to silence this warning.\n",
      "  hr_zones = hr_df.groupby('user_id').apply(personalized_zone_counts)\n",
      "C:\\Users\\wills\\AppData\\Local\\Temp\\ipykernel_16276\\3166670950.py:32: FutureWarning: 'H' is deprecated and will be removed in a future version, please use 'h' instead.\n",
      "  group['hour'] = group['timestamp'].dt.floor('H')\n",
      "C:\\Users\\wills\\AppData\\Local\\Temp\\ipykernel_16276\\3166670950.py:32: FutureWarning: 'H' is deprecated and will be removed in a future version, please use 'h' instead.\n",
      "  group['hour'] = group['timestamp'].dt.floor('H')\n"
     ]
    },
    {
     "name": "stdout",
     "output_type": "stream",
     "text": [
      "[✓] Done processing user User15. Saved to ../Datasets/compiled_users\\User15_features.csv\n",
      "[✓] Done processing user User3. Saved to ../Datasets/compiled_users\\User3_features.csv\n"
     ]
    },
    {
     "name": "stderr",
     "output_type": "stream",
     "text": [
      "C:\\Users\\wills\\AppData\\Local\\Temp\\ipykernel_16276\\1912712736.py:36: DeprecationWarning: DataFrameGroupBy.apply operated on the grouping columns. This behavior is deprecated, and in a future version of pandas the grouping columns will be excluded from the operation. Either pass `include_groups=False` to exclude the groupings or explicitly select the grouping columns after groupby to silence this warning.\n",
      "  move_counts = sensor_df.groupby('user_id').apply(\n",
      "C:\\Users\\wills\\AppData\\Local\\Temp\\ipykernel_16276\\1912712736.py:77: DeprecationWarning: DataFrameGroupBy.apply operated on the grouping columns. This behavior is deprecated, and in a future version of pandas the grouping columns will be excluded from the operation. Either pass `include_groups=False` to exclude the groupings or explicitly select the grouping columns after groupby to silence this warning.\n",
      "  hr_zones = hr_df.groupby('user_id').apply(personalized_zone_counts)\n",
      "C:\\Users\\wills\\AppData\\Local\\Temp\\ipykernel_16276\\3166670950.py:32: FutureWarning: 'H' is deprecated and will be removed in a future version, please use 'h' instead.\n",
      "  group['hour'] = group['timestamp'].dt.floor('H')\n"
     ]
    },
    {
     "name": "stdout",
     "output_type": "stream",
     "text": [
      "[✓] Done processing user User4. Saved to ../Datasets/compiled_users\\User4_features.csv\n"
     ]
    },
    {
     "name": "stderr",
     "output_type": "stream",
     "text": [
      "C:\\Users\\wills\\AppData\\Local\\Temp\\ipykernel_16276\\1912712736.py:36: DeprecationWarning: DataFrameGroupBy.apply operated on the grouping columns. This behavior is deprecated, and in a future version of pandas the grouping columns will be excluded from the operation. Either pass `include_groups=False` to exclude the groupings or explicitly select the grouping columns after groupby to silence this warning.\n",
      "  move_counts = sensor_df.groupby('user_id').apply(\n",
      "C:\\Users\\wills\\AppData\\Local\\Temp\\ipykernel_16276\\1912712736.py:77: DeprecationWarning: DataFrameGroupBy.apply operated on the grouping columns. This behavior is deprecated, and in a future version of pandas the grouping columns will be excluded from the operation. Either pass `include_groups=False` to exclude the groupings or explicitly select the grouping columns after groupby to silence this warning.\n",
      "  hr_zones = hr_df.groupby('user_id').apply(personalized_zone_counts)\n",
      "C:\\Users\\wills\\AppData\\Local\\Temp\\ipykernel_16276\\3166670950.py:32: FutureWarning: 'H' is deprecated and will be removed in a future version, please use 'h' instead.\n",
      "  group['hour'] = group['timestamp'].dt.floor('H')\n"
     ]
    },
    {
     "name": "stdout",
     "output_type": "stream",
     "text": [
      "[✓] Done processing user User5. Saved to ../Datasets/compiled_users\\User5_features.csv\n"
     ]
    },
    {
     "name": "stderr",
     "output_type": "stream",
     "text": [
      "C:\\Users\\wills\\AppData\\Local\\Temp\\ipykernel_16276\\1912712736.py:36: DeprecationWarning: DataFrameGroupBy.apply operated on the grouping columns. This behavior is deprecated, and in a future version of pandas the grouping columns will be excluded from the operation. Either pass `include_groups=False` to exclude the groupings or explicitly select the grouping columns after groupby to silence this warning.\n",
      "  move_counts = sensor_df.groupby('user_id').apply(\n",
      "C:\\Users\\wills\\AppData\\Local\\Temp\\ipykernel_16276\\1912712736.py:77: DeprecationWarning: DataFrameGroupBy.apply operated on the grouping columns. This behavior is deprecated, and in a future version of pandas the grouping columns will be excluded from the operation. Either pass `include_groups=False` to exclude the groupings or explicitly select the grouping columns after groupby to silence this warning.\n",
      "  hr_zones = hr_df.groupby('user_id').apply(personalized_zone_counts)\n",
      "C:\\Users\\wills\\AppData\\Local\\Temp\\ipykernel_16276\\3166670950.py:32: FutureWarning: 'H' is deprecated and will be removed in a future version, please use 'h' instead.\n",
      "  group['hour'] = group['timestamp'].dt.floor('H')\n"
     ]
    },
    {
     "name": "stdout",
     "output_type": "stream",
     "text": [
      "[✓] Done processing user User6. Saved to ../Datasets/compiled_users\\User6_features.csv\n"
     ]
    },
    {
     "name": "stderr",
     "output_type": "stream",
     "text": [
      "C:\\Users\\wills\\AppData\\Local\\Temp\\ipykernel_16276\\1912712736.py:36: DeprecationWarning: DataFrameGroupBy.apply operated on the grouping columns. This behavior is deprecated, and in a future version of pandas the grouping columns will be excluded from the operation. Either pass `include_groups=False` to exclude the groupings or explicitly select the grouping columns after groupby to silence this warning.\n",
      "  move_counts = sensor_df.groupby('user_id').apply(\n",
      "C:\\Users\\wills\\AppData\\Local\\Temp\\ipykernel_16276\\1912712736.py:77: DeprecationWarning: DataFrameGroupBy.apply operated on the grouping columns. This behavior is deprecated, and in a future version of pandas the grouping columns will be excluded from the operation. Either pass `include_groups=False` to exclude the groupings or explicitly select the grouping columns after groupby to silence this warning.\n",
      "  hr_zones = hr_df.groupby('user_id').apply(personalized_zone_counts)\n",
      "C:\\Users\\wills\\AppData\\Local\\Temp\\ipykernel_16276\\3166670950.py:32: FutureWarning: 'H' is deprecated and will be removed in a future version, please use 'h' instead.\n",
      "  group['hour'] = group['timestamp'].dt.floor('H')\n"
     ]
    },
    {
     "name": "stdout",
     "output_type": "stream",
     "text": [
      "[✓] Done processing user User7. Saved to ../Datasets/compiled_users\\User7_features.csv\n"
     ]
    },
    {
     "name": "stderr",
     "output_type": "stream",
     "text": [
      "C:\\Users\\wills\\AppData\\Local\\Temp\\ipykernel_16276\\1912712736.py:36: DeprecationWarning: DataFrameGroupBy.apply operated on the grouping columns. This behavior is deprecated, and in a future version of pandas the grouping columns will be excluded from the operation. Either pass `include_groups=False` to exclude the groupings or explicitly select the grouping columns after groupby to silence this warning.\n",
      "  move_counts = sensor_df.groupby('user_id').apply(\n",
      "C:\\Users\\wills\\AppData\\Local\\Temp\\ipykernel_16276\\1912712736.py:77: DeprecationWarning: DataFrameGroupBy.apply operated on the grouping columns. This behavior is deprecated, and in a future version of pandas the grouping columns will be excluded from the operation. Either pass `include_groups=False` to exclude the groupings or explicitly select the grouping columns after groupby to silence this warning.\n",
      "  hr_zones = hr_df.groupby('user_id').apply(personalized_zone_counts)\n",
      "C:\\Users\\wills\\AppData\\Local\\Temp\\ipykernel_16276\\3166670950.py:32: FutureWarning: 'H' is deprecated and will be removed in a future version, please use 'h' instead.\n",
      "  group['hour'] = group['timestamp'].dt.floor('H')\n"
     ]
    },
    {
     "name": "stdout",
     "output_type": "stream",
     "text": [
      "[✓] Done processing user User8. Saved to ../Datasets/compiled_users\\User8_features.csv\n"
     ]
    },
    {
     "name": "stderr",
     "output_type": "stream",
     "text": [
      "C:\\Users\\wills\\AppData\\Local\\Temp\\ipykernel_16276\\1912712736.py:36: DeprecationWarning: DataFrameGroupBy.apply operated on the grouping columns. This behavior is deprecated, and in a future version of pandas the grouping columns will be excluded from the operation. Either pass `include_groups=False` to exclude the groupings or explicitly select the grouping columns after groupby to silence this warning.\n",
      "  move_counts = sensor_df.groupby('user_id').apply(\n"
     ]
    },
    {
     "name": "stdout",
     "output_type": "stream",
     "text": [
      "[✓] Done processing user User9. Saved to ../Datasets/compiled_users\\User9_features.csv\n"
     ]
    },
    {
     "name": "stderr",
     "output_type": "stream",
     "text": [
      "C:\\Users\\wills\\AppData\\Local\\Temp\\ipykernel_16276\\1912712736.py:77: DeprecationWarning: DataFrameGroupBy.apply operated on the grouping columns. This behavior is deprecated, and in a future version of pandas the grouping columns will be excluded from the operation. Either pass `include_groups=False` to exclude the groupings or explicitly select the grouping columns after groupby to silence this warning.\n",
      "  hr_zones = hr_df.groupby('user_id').apply(personalized_zone_counts)\n",
      "C:\\Users\\wills\\AppData\\Local\\Temp\\ipykernel_16276\\3166670950.py:32: FutureWarning: 'H' is deprecated and will be removed in a future version, please use 'h' instead.\n",
      "  group['hour'] = group['timestamp'].dt.floor('H')\n"
     ]
    }
   ],
   "source": [
    "for user_id in os.listdir(patient_folder):\n",
    "    if os.path.isdir(os.path.join(patient_folder, user_id)):\n",
    "        compile_user_features(user_id, patient_folder, \"../Datasets/compiled_users\")"
   ]
  },
  {
   "cell_type": "code",
   "execution_count": 41,
   "id": "37f670f9",
   "metadata": {},
   "outputs": [],
   "source": [
    "all_files = [\n",
    "    os.path.join('../Datasets/compiled_users', f)\n",
    "    for f in os.listdir('../Datasets/compiled_users')\n",
    "    if f.endswith(\"_features.csv\")\n",
    "]"
   ]
  },
  {
   "cell_type": "code",
   "execution_count": 43,
   "id": "33223059",
   "metadata": {},
   "outputs": [
    {
     "name": "stdout",
     "output_type": "stream",
     "text": [
      "[✓] Merged 13 user files into 'all_user_features.csv' in ../Datasets/compiled_users\n"
     ]
    }
   ],
   "source": [
    "if not all_files:\n",
    "    print(\"[WARN] No user feature files found.\")\n",
    "else:\n",
    "    merged_filename = 'all_user_features.csv'\n",
    "    df_list = [pd.read_csv(f) for f in all_files]\n",
    "    merged_df = pd.concat(df_list, ignore_index=True)\n",
    "    merged_df.to_csv(os.path.join('../Datasets/compiled_users', merged_filename), index=False)\n",
    "    print(f\"[✓] Merged {len(df_list)} user files into '{merged_filename}' in ../Datasets/compiled_users\")"
   ]
  },
  {
   "cell_type": "code",
   "execution_count": 44,
   "id": "2a4ecb3b",
   "metadata": {},
   "outputs": [
    {
     "data": {
      "text/html": [
       "<div>\n",
       "<style scoped>\n",
       "    .dataframe tbody tr th:only-of-type {\n",
       "        vertical-align: middle;\n",
       "    }\n",
       "\n",
       "    .dataframe tbody tr th {\n",
       "        vertical-align: top;\n",
       "    }\n",
       "\n",
       "    .dataframe thead th {\n",
       "        text-align: right;\n",
       "    }\n",
       "</style>\n",
       "<table border=\"1\" class=\"dataframe\">\n",
       "  <thead>\n",
       "    <tr style=\"text-align: right;\">\n",
       "      <th></th>\n",
       "      <th>user_id</th>\n",
       "      <th>gyroscope_mean</th>\n",
       "      <th>gyroscope_std</th>\n",
       "      <th>gyroscope_min</th>\n",
       "      <th>gyroscope_max</th>\n",
       "      <th>gyroscope_median</th>\n",
       "      <th>magnetic_field_mean</th>\n",
       "      <th>magnetic_field_std</th>\n",
       "      <th>magnetic_field_min</th>\n",
       "      <th>magnetic_field_max</th>\n",
       "      <th>...</th>\n",
       "      <th>hr_zone_vigorous</th>\n",
       "      <th>hr_zone_max</th>\n",
       "      <th>resting_hr</th>\n",
       "      <th>mean_hr</th>\n",
       "      <th>glucose_mean</th>\n",
       "      <th>glucose_iqr</th>\n",
       "      <th>glucose_mean_roc</th>\n",
       "      <th>avg_weekly_hypo_hours</th>\n",
       "      <th>avg_weekly_hyper_hours</th>\n",
       "      <th>avg_daily_minutes_above_180</th>\n",
       "    </tr>\n",
       "  </thead>\n",
       "  <tbody>\n",
       "    <tr>\n",
       "      <th>0</th>\n",
       "      <td>User10</td>\n",
       "      <td>0.401973</td>\n",
       "      <td>0.914654</td>\n",
       "      <td>0.0</td>\n",
       "      <td>27.778595</td>\n",
       "      <td>0.048908</td>\n",
       "      <td>55.576645</td>\n",
       "      <td>89.569836</td>\n",
       "      <td>1.330062</td>\n",
       "      <td>70785.788413</td>\n",
       "      <td>...</td>\n",
       "      <td>0.131204</td>\n",
       "      <td>0.119860</td>\n",
       "      <td>60.874</td>\n",
       "      <td>82.725460</td>\n",
       "      <td>104.874823</td>\n",
       "      <td>18.0</td>\n",
       "      <td>0.585391</td>\n",
       "      <td>4.0</td>\n",
       "      <td>0.0</td>\n",
       "      <td>0.000000</td>\n",
       "    </tr>\n",
       "    <tr>\n",
       "      <th>1</th>\n",
       "      <td>User12</td>\n",
       "      <td>0.400745</td>\n",
       "      <td>0.879626</td>\n",
       "      <td>0.0</td>\n",
       "      <td>31.837477</td>\n",
       "      <td>0.036455</td>\n",
       "      <td>52.008435</td>\n",
       "      <td>74.625527</td>\n",
       "      <td>1.097384</td>\n",
       "      <td>111776.626212</td>\n",
       "      <td>...</td>\n",
       "      <td>0.242059</td>\n",
       "      <td>0.257436</td>\n",
       "      <td>56.015</td>\n",
       "      <td>86.932854</td>\n",
       "      <td>103.642421</td>\n",
       "      <td>20.0</td>\n",
       "      <td>0.512423</td>\n",
       "      <td>1.0</td>\n",
       "      <td>0.0</td>\n",
       "      <td>0.000000</td>\n",
       "    </tr>\n",
       "    <tr>\n",
       "      <th>2</th>\n",
       "      <td>User13</td>\n",
       "      <td>0.273559</td>\n",
       "      <td>0.679312</td>\n",
       "      <td>0.0</td>\n",
       "      <td>36.960124</td>\n",
       "      <td>0.025865</td>\n",
       "      <td>531.764293</td>\n",
       "      <td>1946.155093</td>\n",
       "      <td>0.568666</td>\n",
       "      <td>126596.888231</td>\n",
       "      <td>...</td>\n",
       "      <td>0.073705</td>\n",
       "      <td>0.087492</td>\n",
       "      <td>59.106</td>\n",
       "      <td>76.577372</td>\n",
       "      <td>105.570373</td>\n",
       "      <td>16.0</td>\n",
       "      <td>0.556288</td>\n",
       "      <td>6.0</td>\n",
       "      <td>0.0</td>\n",
       "      <td>32.500000</td>\n",
       "    </tr>\n",
       "    <tr>\n",
       "      <th>3</th>\n",
       "      <td>User14</td>\n",
       "      <td>0.546958</td>\n",
       "      <td>0.957525</td>\n",
       "      <td>0.0</td>\n",
       "      <td>29.918926</td>\n",
       "      <td>0.144727</td>\n",
       "      <td>61.797573</td>\n",
       "      <td>116.990576</td>\n",
       "      <td>0.901407</td>\n",
       "      <td>158813.380460</td>\n",
       "      <td>...</td>\n",
       "      <td>0.091097</td>\n",
       "      <td>0.079914</td>\n",
       "      <td>67.862</td>\n",
       "      <td>87.711491</td>\n",
       "      <td>131.061975</td>\n",
       "      <td>47.0</td>\n",
       "      <td>0.605913</td>\n",
       "      <td>8.0</td>\n",
       "      <td>3.5</td>\n",
       "      <td>246.268750</td>\n",
       "    </tr>\n",
       "    <tr>\n",
       "      <th>4</th>\n",
       "      <td>User15</td>\n",
       "      <td>0.651941</td>\n",
       "      <td>1.237459</td>\n",
       "      <td>0.0</td>\n",
       "      <td>41.378285</td>\n",
       "      <td>0.107898</td>\n",
       "      <td>58.807818</td>\n",
       "      <td>110.357285</td>\n",
       "      <td>0.303621</td>\n",
       "      <td>163503.710301</td>\n",
       "      <td>...</td>\n",
       "      <td>0.153751</td>\n",
       "      <td>0.146439</td>\n",
       "      <td>58.525</td>\n",
       "      <td>84.468018</td>\n",
       "      <td>129.738732</td>\n",
       "      <td>23.0</td>\n",
       "      <td>0.746434</td>\n",
       "      <td>1.0</td>\n",
       "      <td>0.0</td>\n",
       "      <td>50.726190</td>\n",
       "    </tr>\n",
       "    <tr>\n",
       "      <th>5</th>\n",
       "      <td>User1</td>\n",
       "      <td>0.559347</td>\n",
       "      <td>1.021973</td>\n",
       "      <td>0.0</td>\n",
       "      <td>32.131826</td>\n",
       "      <td>0.098478</td>\n",
       "      <td>46.213014</td>\n",
       "      <td>106.022373</td>\n",
       "      <td>0.916109</td>\n",
       "      <td>172631.880674</td>\n",
       "      <td>...</td>\n",
       "      <td>0.143496</td>\n",
       "      <td>0.045875</td>\n",
       "      <td>68.729</td>\n",
       "      <td>90.380149</td>\n",
       "      <td>116.296488</td>\n",
       "      <td>28.0</td>\n",
       "      <td>0.579385</td>\n",
       "      <td>1.0</td>\n",
       "      <td>0.0</td>\n",
       "      <td>36.006667</td>\n",
       "    </tr>\n",
       "    <tr>\n",
       "      <th>6</th>\n",
       "      <td>User3</td>\n",
       "      <td>NaN</td>\n",
       "      <td>NaN</td>\n",
       "      <td>NaN</td>\n",
       "      <td>NaN</td>\n",
       "      <td>NaN</td>\n",
       "      <td>NaN</td>\n",
       "      <td>NaN</td>\n",
       "      <td>NaN</td>\n",
       "      <td>NaN</td>\n",
       "      <td>...</td>\n",
       "      <td>NaN</td>\n",
       "      <td>NaN</td>\n",
       "      <td>NaN</td>\n",
       "      <td>NaN</td>\n",
       "      <td>111.112322</td>\n",
       "      <td>17.0</td>\n",
       "      <td>3.931154</td>\n",
       "      <td>0.0</td>\n",
       "      <td>0.0</td>\n",
       "      <td>17.491667</td>\n",
       "    </tr>\n",
       "    <tr>\n",
       "      <th>7</th>\n",
       "      <td>User4</td>\n",
       "      <td>0.218626</td>\n",
       "      <td>0.641099</td>\n",
       "      <td>0.0</td>\n",
       "      <td>29.885751</td>\n",
       "      <td>0.004690</td>\n",
       "      <td>53.734843</td>\n",
       "      <td>63.188778</td>\n",
       "      <td>0.544508</td>\n",
       "      <td>23514.367512</td>\n",
       "      <td>...</td>\n",
       "      <td>0.153799</td>\n",
       "      <td>0.120284</td>\n",
       "      <td>64.979</td>\n",
       "      <td>89.318723</td>\n",
       "      <td>90.721727</td>\n",
       "      <td>22.0</td>\n",
       "      <td>0.634731</td>\n",
       "      <td>23.0</td>\n",
       "      <td>0.0</td>\n",
       "      <td>0.000000</td>\n",
       "    </tr>\n",
       "    <tr>\n",
       "      <th>8</th>\n",
       "      <td>User5</td>\n",
       "      <td>0.429606</td>\n",
       "      <td>0.985208</td>\n",
       "      <td>0.0</td>\n",
       "      <td>40.331607</td>\n",
       "      <td>0.054415</td>\n",
       "      <td>46.810097</td>\n",
       "      <td>212.975066</td>\n",
       "      <td>0.000000</td>\n",
       "      <td>437297.880746</td>\n",
       "      <td>...</td>\n",
       "      <td>0.068711</td>\n",
       "      <td>0.062020</td>\n",
       "      <td>66.588</td>\n",
       "      <td>83.381693</td>\n",
       "      <td>90.540118</td>\n",
       "      <td>18.0</td>\n",
       "      <td>0.593208</td>\n",
       "      <td>9.0</td>\n",
       "      <td>0.0</td>\n",
       "      <td>0.000000</td>\n",
       "    </tr>\n",
       "    <tr>\n",
       "      <th>9</th>\n",
       "      <td>User6</td>\n",
       "      <td>0.419257</td>\n",
       "      <td>0.919063</td>\n",
       "      <td>0.0</td>\n",
       "      <td>41.683554</td>\n",
       "      <td>0.045310</td>\n",
       "      <td>50.825342</td>\n",
       "      <td>70.357363</td>\n",
       "      <td>0.265951</td>\n",
       "      <td>26279.627516</td>\n",
       "      <td>...</td>\n",
       "      <td>0.110241</td>\n",
       "      <td>0.033997</td>\n",
       "      <td>73.519</td>\n",
       "      <td>93.057413</td>\n",
       "      <td>95.509248</td>\n",
       "      <td>20.0</td>\n",
       "      <td>0.588177</td>\n",
       "      <td>13.5</td>\n",
       "      <td>0.0</td>\n",
       "      <td>10.016667</td>\n",
       "    </tr>\n",
       "    <tr>\n",
       "      <th>10</th>\n",
       "      <td>User7</td>\n",
       "      <td>0.514312</td>\n",
       "      <td>1.009413</td>\n",
       "      <td>0.0</td>\n",
       "      <td>27.457987</td>\n",
       "      <td>0.114425</td>\n",
       "      <td>74.245629</td>\n",
       "      <td>362.278528</td>\n",
       "      <td>0.158079</td>\n",
       "      <td>315671.250551</td>\n",
       "      <td>...</td>\n",
       "      <td>0.225002</td>\n",
       "      <td>0.119898</td>\n",
       "      <td>67.911</td>\n",
       "      <td>97.287785</td>\n",
       "      <td>100.963014</td>\n",
       "      <td>14.0</td>\n",
       "      <td>0.528478</td>\n",
       "      <td>1.5</td>\n",
       "      <td>0.0</td>\n",
       "      <td>55.000000</td>\n",
       "    </tr>\n",
       "    <tr>\n",
       "      <th>11</th>\n",
       "      <td>User8</td>\n",
       "      <td>0.820154</td>\n",
       "      <td>1.344902</td>\n",
       "      <td>0.0</td>\n",
       "      <td>40.593845</td>\n",
       "      <td>0.241127</td>\n",
       "      <td>53.359073</td>\n",
       "      <td>91.567592</td>\n",
       "      <td>0.878122</td>\n",
       "      <td>48995.762958</td>\n",
       "      <td>...</td>\n",
       "      <td>0.128894</td>\n",
       "      <td>0.099141</td>\n",
       "      <td>67.764</td>\n",
       "      <td>90.802123</td>\n",
       "      <td>115.126234</td>\n",
       "      <td>22.0</td>\n",
       "      <td>0.610291</td>\n",
       "      <td>3.0</td>\n",
       "      <td>0.0</td>\n",
       "      <td>40.996667</td>\n",
       "    </tr>\n",
       "    <tr>\n",
       "      <th>12</th>\n",
       "      <td>User9</td>\n",
       "      <td>0.383723</td>\n",
       "      <td>0.824808</td>\n",
       "      <td>0.0</td>\n",
       "      <td>32.557684</td>\n",
       "      <td>0.034307</td>\n",
       "      <td>71.702193</td>\n",
       "      <td>102.890554</td>\n",
       "      <td>1.639905</td>\n",
       "      <td>98730.301343</td>\n",
       "      <td>...</td>\n",
       "      <td>0.110095</td>\n",
       "      <td>0.167295</td>\n",
       "      <td>53.719</td>\n",
       "      <td>75.113960</td>\n",
       "      <td>121.790665</td>\n",
       "      <td>21.0</td>\n",
       "      <td>0.551979</td>\n",
       "      <td>0.0</td>\n",
       "      <td>0.0</td>\n",
       "      <td>50.000000</td>\n",
       "    </tr>\n",
       "  </tbody>\n",
       "</table>\n",
       "<p>13 rows × 36 columns</p>\n",
       "</div>"
      ],
      "text/plain": [
       "   user_id  gyroscope_mean  gyroscope_std  gyroscope_min  gyroscope_max  \\\n",
       "0   User10        0.401973       0.914654            0.0      27.778595   \n",
       "1   User12        0.400745       0.879626            0.0      31.837477   \n",
       "2   User13        0.273559       0.679312            0.0      36.960124   \n",
       "3   User14        0.546958       0.957525            0.0      29.918926   \n",
       "4   User15        0.651941       1.237459            0.0      41.378285   \n",
       "5    User1        0.559347       1.021973            0.0      32.131826   \n",
       "6    User3             NaN            NaN            NaN            NaN   \n",
       "7    User4        0.218626       0.641099            0.0      29.885751   \n",
       "8    User5        0.429606       0.985208            0.0      40.331607   \n",
       "9    User6        0.419257       0.919063            0.0      41.683554   \n",
       "10   User7        0.514312       1.009413            0.0      27.457987   \n",
       "11   User8        0.820154       1.344902            0.0      40.593845   \n",
       "12   User9        0.383723       0.824808            0.0      32.557684   \n",
       "\n",
       "    gyroscope_median  magnetic_field_mean  magnetic_field_std  \\\n",
       "0           0.048908            55.576645           89.569836   \n",
       "1           0.036455            52.008435           74.625527   \n",
       "2           0.025865           531.764293         1946.155093   \n",
       "3           0.144727            61.797573          116.990576   \n",
       "4           0.107898            58.807818          110.357285   \n",
       "5           0.098478            46.213014          106.022373   \n",
       "6                NaN                  NaN                 NaN   \n",
       "7           0.004690            53.734843           63.188778   \n",
       "8           0.054415            46.810097          212.975066   \n",
       "9           0.045310            50.825342           70.357363   \n",
       "10          0.114425            74.245629          362.278528   \n",
       "11          0.241127            53.359073           91.567592   \n",
       "12          0.034307            71.702193          102.890554   \n",
       "\n",
       "    magnetic_field_min  magnetic_field_max  ...  hr_zone_vigorous  \\\n",
       "0             1.330062        70785.788413  ...          0.131204   \n",
       "1             1.097384       111776.626212  ...          0.242059   \n",
       "2             0.568666       126596.888231  ...          0.073705   \n",
       "3             0.901407       158813.380460  ...          0.091097   \n",
       "4             0.303621       163503.710301  ...          0.153751   \n",
       "5             0.916109       172631.880674  ...          0.143496   \n",
       "6                  NaN                 NaN  ...               NaN   \n",
       "7             0.544508        23514.367512  ...          0.153799   \n",
       "8             0.000000       437297.880746  ...          0.068711   \n",
       "9             0.265951        26279.627516  ...          0.110241   \n",
       "10            0.158079       315671.250551  ...          0.225002   \n",
       "11            0.878122        48995.762958  ...          0.128894   \n",
       "12            1.639905        98730.301343  ...          0.110095   \n",
       "\n",
       "    hr_zone_max  resting_hr    mean_hr  glucose_mean  glucose_iqr  \\\n",
       "0      0.119860      60.874  82.725460    104.874823         18.0   \n",
       "1      0.257436      56.015  86.932854    103.642421         20.0   \n",
       "2      0.087492      59.106  76.577372    105.570373         16.0   \n",
       "3      0.079914      67.862  87.711491    131.061975         47.0   \n",
       "4      0.146439      58.525  84.468018    129.738732         23.0   \n",
       "5      0.045875      68.729  90.380149    116.296488         28.0   \n",
       "6           NaN         NaN        NaN    111.112322         17.0   \n",
       "7      0.120284      64.979  89.318723     90.721727         22.0   \n",
       "8      0.062020      66.588  83.381693     90.540118         18.0   \n",
       "9      0.033997      73.519  93.057413     95.509248         20.0   \n",
       "10     0.119898      67.911  97.287785    100.963014         14.0   \n",
       "11     0.099141      67.764  90.802123    115.126234         22.0   \n",
       "12     0.167295      53.719  75.113960    121.790665         21.0   \n",
       "\n",
       "    glucose_mean_roc  avg_weekly_hypo_hours  avg_weekly_hyper_hours  \\\n",
       "0           0.585391                    4.0                     0.0   \n",
       "1           0.512423                    1.0                     0.0   \n",
       "2           0.556288                    6.0                     0.0   \n",
       "3           0.605913                    8.0                     3.5   \n",
       "4           0.746434                    1.0                     0.0   \n",
       "5           0.579385                    1.0                     0.0   \n",
       "6           3.931154                    0.0                     0.0   \n",
       "7           0.634731                   23.0                     0.0   \n",
       "8           0.593208                    9.0                     0.0   \n",
       "9           0.588177                   13.5                     0.0   \n",
       "10          0.528478                    1.5                     0.0   \n",
       "11          0.610291                    3.0                     0.0   \n",
       "12          0.551979                    0.0                     0.0   \n",
       "\n",
       "    avg_daily_minutes_above_180  \n",
       "0                      0.000000  \n",
       "1                      0.000000  \n",
       "2                     32.500000  \n",
       "3                    246.268750  \n",
       "4                     50.726190  \n",
       "5                     36.006667  \n",
       "6                     17.491667  \n",
       "7                      0.000000  \n",
       "8                      0.000000  \n",
       "9                     10.016667  \n",
       "10                    55.000000  \n",
       "11                    40.996667  \n",
       "12                    50.000000  \n",
       "\n",
       "[13 rows x 36 columns]"
      ]
     },
     "execution_count": 44,
     "metadata": {},
     "output_type": "execute_result"
    }
   ],
   "source": [
    "all_user_features = pd.read_csv('..\\\\Datasets\\\\compiled_users\\\\all_user_features.csv')\n",
    "all_user_features"
   ]
  },
  {
   "cell_type": "code",
   "execution_count": 45,
   "id": "f283033e",
   "metadata": {},
   "outputs": [
    {
     "data": {
      "text/plain": [
       "(10, 37)"
      ]
     },
     "execution_count": 45,
     "metadata": {},
     "output_type": "execute_result"
    }
   ],
   "source": [
    "# For making this work smoothly, we will drop rows with nulls and be left with 10\n",
    "all_user_features2 = all_user_features.dropna().reset_index()\n",
    "all_user_features2.shape"
   ]
  },
  {
   "cell_type": "markdown",
   "id": "2b8c74b5",
   "metadata": {},
   "source": [
    "## Get NHANES data\n",
    "#### Since glucdict is a small sample size and does not have diabetes labels, we will get demographic and diabetes records from a similar timeframe from NHANES"
   ]
  },
  {
   "cell_type": "code",
   "execution_count": 50,
   "id": "6e990e30",
   "metadata": {},
   "outputs": [],
   "source": [
    "demo_path = os.path.join(nhanes_folder,\"DEMO_L.xpt\")\n",
    "diq_path = os.path.join(nhanes_folder,\"DIQ_L.xpt\")"
   ]
  },
  {
   "cell_type": "code",
   "execution_count": 51,
   "id": "1b55dc9f",
   "metadata": {},
   "outputs": [],
   "source": [
    "demo_df = pd.read_sas(demo_path, format='xport')\n",
    "diq_df = pd.read_sas(diq_path, format='xport')"
   ]
  },
  {
   "cell_type": "code",
   "execution_count": 52,
   "id": "9ea76cf0",
   "metadata": {},
   "outputs": [],
   "source": [
    "nhanes_df = pd.merge(demo_df, diq_df, on=\"SEQN\", how=\"inner\")"
   ]
  },
  {
   "cell_type": "code",
   "execution_count": 56,
   "id": "a5652875",
   "metadata": {},
   "outputs": [
    {
     "name": "stdout",
     "output_type": "stream",
     "text": [
      "(11744, 35)\n",
      "Index(['SEQN', 'SDDSRVYR', 'RIDSTATR', 'RIAGENDR', 'RIDAGEYR', 'RIDAGEMN',\n",
      "       'RIDRETH1', 'RIDRETH3', 'RIDEXMON', 'RIDEXAGM', 'DMQMILIZ', 'DMDBORN4',\n",
      "       'DMDYRUSR', 'DMDEDUC2', 'DMDMARTZ', 'RIDEXPRG', 'DMDHHSIZ', 'DMDHRGND',\n",
      "       'DMDHRAGZ', 'DMDHREDZ', 'DMDHRMAZ', 'DMDHSEDZ', 'WTINT2YR', 'WTMEC2YR',\n",
      "       'SDMVSTRA', 'SDMVPSU', 'INDFMPIR', 'DIQ010', 'DID040', 'DIQ160',\n",
      "       'DIQ180', 'DIQ050', 'DID060', 'DIQ060U', 'DIQ070'],\n",
      "      dtype='object')\n"
     ]
    }
   ],
   "source": [
    "print(nhanes_df.shape)\n",
    "print(nhanes_df.columns)"
   ]
  },
  {
   "cell_type": "code",
   "execution_count": 57,
   "id": "4cd7b7e7",
   "metadata": {},
   "outputs": [],
   "source": [
    "diabetes_labels = {\n",
    "    1: \"Yes\",\n",
    "    2: \"No\",\n",
    "    3: \"Borderline\",\n",
    "    7: \"Refused\",\n",
    "    9: \"Don't know\"\n",
    "}\n",
    "nhanes_df['diabetes_status'] = nhanes_df['DIQ010'].map(diabetes_labels)"
   ]
  },
  {
   "cell_type": "code",
   "execution_count": 111,
   "id": "ab40a061",
   "metadata": {},
   "outputs": [
    {
     "name": "stdout",
     "output_type": "stream",
     "text": [
      "(11452, 35)\n"
     ]
    }
   ],
   "source": [
    "# Since the overwhelming najority are yes or no, and this is a classification problem, we will filter to just those\n",
    "nhanes_df_2 = nhanes_df.loc[nhanes_df['diabetes_status'].isin([\"Yes\",\"No\"])].drop(columns=['DIQ010'])\n",
    "print(nhanes_df_2.shape)"
   ]
  },
  {
   "cell_type": "markdown",
   "id": "54500ac9",
   "metadata": {},
   "source": [
    "##### Now we will match up the glucdict rows to NHANES rows. Since there are a small number of glucdict rows, we will jitter the data so there isn't a lot of identical data. Also, the assignment won't be entirely random, but weighted so that higher average glucose glucdict data will be more likely to be matched wit hNHANES records with diabetes"
   ]
  },
  {
   "cell_type": "code",
   "execution_count": 102,
   "id": "44e5fbc8",
   "metadata": {},
   "outputs": [],
   "source": [
    "def assign_features(nhanes_df, glucdict_df, jitter_std=0.01, seed=55):\n",
    "    np.random.seed(seed)\n",
    "\n",
    "    glucdict_df = glucdict_df.copy()\n",
    "    glucdict_df['glucose_weight'] = glucdict_df['glucose_mean']\n",
    "    glucdict_df['glucose_weight'] = (glucdict_df['glucose_weight'] - glucdict_df['glucose_weight'].mean()) / glucdict_df['glucose_weight'].std()\n",
    "    glucdict_df['glucose_score'] = expit(glucdict_df['glucose_weight'])\n",
    "    \n",
    "    synthetic_rows = []\n",
    "\n",
    "    for idx, row in nhanes_df.iterrows():\n",
    "        diabetes = row['diabetes_status']\n",
    "\n",
    "        if diabetes == 'Yes':\n",
    "            weights = glucdict_df['glucose_score'] + 0.125\n",
    "        else:\n",
    "            weights = (1 - glucdict_df['glucose_score']) + 0.125\n",
    "\n",
    "        weights /= weights.sum()  # normalize\n",
    "\n",
    "        selected_idx = np.random.choice(glucdict_df.index, p=weights)\n",
    "        synthetic = glucdict_df.loc[selected_idx].copy()\n",
    "\n",
    "        # jitter to avoid duplicates\n",
    "        numeric_cols = synthetic.select_dtypes(include='number').index if isinstance(synthetic, pd.DataFrame) \\\n",
    "            else synthetic.index[synthetic.apply(lambda x: isinstance(x, (int, float)))]\n",
    "        jitter = np.random.normal(loc=0.0, scale=jitter_std, size=len(numeric_cols))\n",
    "        synthetic[numeric_cols] += jitter\n",
    "\n",
    "        combined_row = pd.concat([row.dropna(), synthetic.drop(['user_id', 'glucose_norm'], errors='ignore')])\n",
    "        synthetic_rows.append(combined_row)\n",
    "\n",
    "    synthetic_df = pd.DataFrame(synthetic_rows)\n",
    "    return synthetic_df"
   ]
  },
  {
   "cell_type": "code",
   "execution_count": 2,
   "id": "20d287a2",
   "metadata": {},
   "outputs": [],
   "source": [
    "synthetic_nhanes = assign_features(nhanes_df_2, all_user_features2)"
   ]
  },
  {
   "cell_type": "code",
   "execution_count": 4,
   "id": "82df003c-7e99-42ee-9911-dc04c764b879",
   "metadata": {},
   "outputs": [],
   "source": [
    "def plot_feature_by_diabetes(df, feature, title=None):\n",
    "    plt.figure(figsize=(8, 5))\n",
    "    sns.boxplot(data=df, x='diabetes_status', y=feature)\n",
    "    plt.title(title or f'{feature} by Diabetes Status')\n",
    "    plt.xlabel('Diabetes Status')\n",
    "    plt.ylabel(feature)\n",
    "    plt.tight_layout()\n",
    "    plt.show()"
   ]
  },
  {
   "cell_type": "code",
   "execution_count": 104,
   "id": "4eec2cb3",
   "metadata": {},
   "outputs": [
    {
     "data": {
      "image/png": "[encoded data removed]",
      "text/plain": [
       "<Figure size 800x500 with 1 Axes>"
      ]
     },
     "metadata": {},
     "output_type": "display_data"
    }
   ],
   "source": [
    "plot_feature_by_diabetes(synthetic_nhanes, 'glucose_mean', 'Average Glucose by Diabetes Status')"
   ]
  },
  {
   "cell_type": "code",
   "execution_count": 105,
   "id": "6ab78789",
   "metadata": {},
   "outputs": [
    {
     "data": {
      "image/png": "[encoded data removed]",
      "text/plain": [
       "<Figure size 800x500 with 1 Axes>"
      ]
     },
     "metadata": {},
     "output_type": "display_data"
    }
   ],
   "source": [
    "plot_feature_by_diabetes(synthetic_nhanes, 'mean_hr', 'Mean Heart Rate by Diabetes Status')"
   ]
  },
  {
   "cell_type": "code",
   "execution_count": 8,
   "id": "09db2c6a-d93e-4d63-ae7d-07282b6deff0",
   "metadata": {},
   "outputs": [
    {
     "data": {
      "text/plain": [
       "Index(['SEQN', 'SDDSRVYR', 'RIDSTATR', 'RIAGENDR', 'RIDAGEYR', 'RIDRETH1',\n",
       "       'RIDRETH3', 'RIDEXMON', 'DMQMILIZ', 'DMDBORN4', 'DMDYRUSR', 'DMDEDUC2',\n",
       "       'DMDMARTZ', 'DMDHHSIZ', 'WTINT2YR', 'WTMEC2YR', 'SDMVSTRA', 'SDMVPSU',\n",
       "       'INDFMPIR', 'DIQ010', 'DIQ160', 'DIQ180', 'diabetes_status', 'index',\n",
       "       'gyroscope_mean', 'gyroscope_std', 'gyroscope_min', 'gyroscope_max',\n",
       "       'gyroscope_median', 'magnetic_field_mean', 'magnetic_field_std',\n",
       "       'magnetic_field_min', 'magnetic_field_max', 'magnetic_field_median',\n",
       "       'gravity_mean', 'gravity_std', 'gravity_min', 'gravity_max',\n",
       "       'gravity_median', 'accelerometer_mean', 'accelerometer_std',\n",
       "       'accelerometer_min', 'accelerometer_max', 'accelerometer_median',\n",
       "       'accelerometer_percent_time_moving', 'avg_daily_steps', 'hr_zone_rest',\n",
       "       'hr_zone_light', 'hr_zone_moderate', 'hr_zone_vigorous', 'hr_zone_max',\n",
       "       'resting_hr', 'mean_hr', 'glucose_mean', 'glucose_iqr',\n",
       "       'glucose_mean_roc', 'avg_weekly_hypo_hours', 'avg_weekly_hyper_hours',\n",
       "       'avg_daily_minutes_above_180', 'glucose_weight', 'glucose_score',\n",
       "       'RIDEXPRG', 'DID040', 'DIQ050', 'DIQ070', 'RIDEXAGM', 'DMDHRGND',\n",
       "       'DMDHRAGZ', 'DMDHREDZ', 'DMDHRMAZ', 'DMDHSEDZ', 'DID060', 'DIQ060U',\n",
       "       'RIDAGEMN'],\n",
       "      dtype='object')"
      ]
     },
     "execution_count": 109,
     "metadata": {},
     "output_type": "execute_result"
    }
   ],
   "source": [
    "synthetic_nhanes.columns"
   ]
  },
  {
   "cell_type": "markdown",
   "id": "44f14cf4",
   "metadata": {},
   "source": [
    "### Now we try some predictive models"
   ]
  },
  {
   "cell_type": "code",
   "execution_count": 11,
   "id": "01ad645e-1a6b-4655-bd9c-c7c1e4385804",
   "metadata": {},
   "outputs": [
    {
     "ename": "NameError",
     "evalue": "name 'synthetic_nhanes' is not defined",
     "output_type": "error",
     "traceback": [
      "\u001b[31m---------------------------------------------------------------------------\u001b[39m",
      "\u001b[31mNameError\u001b[39m                                 Traceback (most recent call last)",
      "\u001b[36mCell\u001b[39m\u001b[36m \u001b[39m\u001b[32mIn[11]\u001b[39m\u001b[32m, line 1\u001b[39m\n\u001b[32m----> \u001b[39m\u001b[32m1\u001b[39m X = \u001b[43msynthetic_nhanes\u001b[49m.drop(columns=[\u001b[33m'\u001b[39m\u001b[33mdiabetes_status\u001b[39m\u001b[33m'\u001b[39m])\n\u001b[32m      2\u001b[39m y = synthetic_nhanes[\u001b[33m'\u001b[39m\u001b[33mdiabetes_status\u001b[39m\u001b[33m'\u001b[39m].map({\u001b[33m'\u001b[39m\u001b[33mNo\u001b[39m\u001b[33m'\u001b[39m: \u001b[32m0\u001b[39m, \u001b[33m'\u001b[39m\u001b[33mYes\u001b[39m\u001b[33m'\u001b[39m: \u001b[32m1\u001b[39m})\n",
      "\u001b[31mNameError\u001b[39m: name 'synthetic_nhanes' is not defined"
     ]
    }
   ],
   "source": [
    "X = synthetic_nhanes.drop(columns=['diabetes_status'])\n",
    "y = synthetic_nhanes['diabetes_status'].map({'No': 0, 'Yes': 1})"
   ]
  },
  {
   "cell_type": "code",
   "execution_count": 12,
   "id": "46b8dd7e-440c-47ac-a526-ffdca325d78c",
   "metadata": {},
   "outputs": [
    {
     "ename": "NameError",
     "evalue": "name 'X' is not defined",
     "output_type": "error",
     "traceback": [
      "\u001b[31m---------------------------------------------------------------------------\u001b[39m",
      "\u001b[31mNameError\u001b[39m                                 Traceback (most recent call last)",
      "\u001b[36mCell\u001b[39m\u001b[36m \u001b[39m\u001b[32mIn[12]\u001b[39m\u001b[32m, line 5\u001b[39m\n\u001b[32m      1\u001b[39m \u001b[38;5;66;03m# initial run resulted in all perfect prediciton, so we need to clean the dataset of leakage\u001b[39;00m\n\u001b[32m      2\u001b[39m leak_cols = [\u001b[33m'\u001b[39m\u001b[33mglucose_mean\u001b[39m\u001b[33m'\u001b[39m, \u001b[33m'\u001b[39m\u001b[33mglucose_score\u001b[39m\u001b[33m'\u001b[39m, \u001b[33m'\u001b[39m\u001b[33mglucose_weight\u001b[39m\u001b[33m'\u001b[39m,\n\u001b[32m      3\u001b[39m     \u001b[33m'\u001b[39m\u001b[33mDIQ050\u001b[39m\u001b[33m'\u001b[39m, \u001b[33m'\u001b[39m\u001b[33mDIQ070\u001b[39m\u001b[33m'\u001b[39m, \u001b[33m'\u001b[39m\u001b[33mDIQ160\u001b[39m\u001b[33m'\u001b[39m, \u001b[33m'\u001b[39m\u001b[33mDIQ180\u001b[39m\u001b[33m'\u001b[39m, \u001b[33m'\u001b[39m\u001b[33mDID040\u001b[39m\u001b[33m'\u001b[39m, \u001b[33m'\u001b[39m\u001b[33mSEQN\u001b[39m\u001b[33m'\u001b[39m, \u001b[33m'\u001b[39m\u001b[33mindex\u001b[39m\u001b[33m'\u001b[39m]\n\u001b[32m----> \u001b[39m\u001b[32m5\u001b[39m X = \u001b[43mX\u001b[49m.drop(columns=[col \u001b[38;5;28;01mfor\u001b[39;00m col \u001b[38;5;129;01min\u001b[39;00m leak_cols \u001b[38;5;28;01mif\u001b[39;00m col \u001b[38;5;129;01min\u001b[39;00m X.columns])\n",
      "\u001b[31mNameError\u001b[39m: name 'X' is not defined"
     ]
    }
   ],
   "source": [
    "# initial run resulted in all perfect prediciton, so we need to clean the dataset of leakage\n",
    "leak_cols = ['glucose_mean', 'glucose_score', 'glucose_weight',\n",
    "    'DIQ050', 'DIQ070', 'DIQ160', 'DIQ180', 'DID040', 'SEQN', 'index']\n",
    "\n",
    "X = X.drop(columns=[col for col in leak_cols if col in X.columns])"
   ]
  },
  {
   "cell_type": "code",
   "execution_count": 35,
   "id": "2830ebc4-fba0-4885-8079-c7c426fa6353",
   "metadata": {},
   "outputs": [],
   "source": [
    "seed = 100\n",
    "\n",
    "models = {\n",
    "    'RandomForest (default)': RandomForestClassifier(random_state=seed),\n",
    "    'RandomForest (max_depth=5)': RandomForestClassifier(max_depth=5, random_state=seed),\n",
    "    'XGBoost': XGBClassifier(eval_metric='logloss', random_state=seed),\n",
    "    'HistGradientBoost': HistGradientBoostingClassifier(random_state=seed)\n",
    "}\n",
    "\n",
    "results = []\n",
    "\n",
    "cv = StratifiedKFold(n_splits=5, shuffle=True, random_state=seed)\n",
    "\n",
    "for name, model in models.items():\n",
    "    metrics = {\n",
    "        'accuracy': [],\n",
    "        'precision': [],\n",
    "        'recall': [],\n",
    "        'f1': [],\n",
    "        'roc_auc': []\n",
    "    }\n",
    "\n",
    "    for train_idx, test_idx in cv.split(X, y):\n",
    "        X_train, X_test = X.iloc[train_idx], X.iloc[test_idx]\n",
    "        y_train, y_test = y.iloc[train_idx], y.iloc[test_idx]\n",
    "\n",
    "        model.fit(X_train, y_train)\n",
    "        y_pred = model.predict(X_test)\n",
    "\n",
    "        metrics['accuracy'].append(accuracy_score(y_test, y_pred))\n",
    "        metrics['precision'].append(precision_score(y_test, y_pred, zero_division=0))\n",
    "        metrics['recall'].append(recall_score(y_test, y_pred, zero_division=0))\n",
    "        metrics['f1'].append(f1_score(y_test, y_pred, zero_division=0))\n",
    "    results.append({\n",
    "        'Model': name,\n",
    "        'Accuracy (Mean)': np.mean(metrics['accuracy']),\n",
    "        'Precision (Mean)': np.mean(metrics['precision']),\n",
    "        'Recall (Mean)': np.mean(metrics['recall']),\n",
    "        'F1 Score (Mean)': np.mean(metrics['f1'])\n",
    "    })\n",
    "    \n",
    "results_df = pd.DataFrame(results)"
   ]
  },
  {
   "cell_type": "code",
   "execution_count": 12,
   "id": "0e41f6d5-14eb-42cc-8f12-2d4fcfb6a2ef",
   "metadata": {},
   "outputs": [],
   "source": [
    "data_df = synthetic_nhanes.copy()\n",
    "model_results_df = results_df.copy()\n",
    "\n",
    "numeric_cols = data_df.select_dtypes(include='number').columns.tolist()\n",
    "\n",
    "\n",
    "app_ui = ui.page_fluid(\n",
    "    ui.h2(\"Health Data Dashboard\"),\n",
    "    ui.navset_tab(\n",
    "        ui.nav_panel(\"Feature Comparison\",\n",
    "            ui.input_select(\"feature\", \"Select a feature:\", choices=numeric_cols),\n",
    "            ui.output_plot(\"feature_plot\")\n",
    "        ),\n",
    "        ui.nav_panel(\"Model Performance\",\n",
    "            ui.output_plot(\"model_plot\")\n",
    "        )\n",
    "    )\n",
    ")\n",
    "\n",
    "def server(input, output, session):\n",
    "    @output\n",
    "    @render.plot\n",
    "    def feature_plot():\n",
    "        plt.figure(figsize=(8, 5))\n",
    "        sns.boxplot(data=data_df, x='diabetes_status', y=input.feature())\n",
    "        plt.title(f\"{input.feature()} by Diabetes Status\")\n",
    "        plt.tight_layout()\n",
    "        return plt.gcf()\n",
    "\n",
    "    @output\n",
    "    @render.plot\n",
    "    def model_plot():\n",
    "        plt.figure(figsize=(10, 5))\n",
    "        melted = model_results_df.melt(id_vars='Model', var_name='Metric', value_name='Score')\n",
    "        sns.barplot(data=melted, x='Model', y='Score', hue='Metric')\n",
    "        plt.title(\"Model Performance Comparison\")\n",
    "        plt.xticks(rotation=15)\n",
    "        plt.tight_layout()\n",
    "        return plt.gcf()\n",
    "\n",
    "\n",
    "app = App(app_ui, server)"
   ]
  },
  {
   "cell_type": "code",
   "execution_count": 159,
   "id": "d248889a",
   "metadata": {},
   "outputs": [
    {
     "ename": "RuntimeError",
     "evalue": "asyncio.run() cannot be called from a running event loop",
     "output_type": "error",
     "traceback": [
      "\u001b[1;31m---------------------------------------------------------------------------\u001b[0m",
      "\u001b[1;31mRuntimeError\u001b[0m                              Traceback (most recent call last)",
      "\u001b[1;32m~\\AppData\\Local\\Temp\\ipykernel_16564\\20597827.py\u001b[0m in \u001b[0;36m<module>\u001b[1;34m\u001b[0m\n\u001b[1;32m----> 1\u001b[1;33m \u001b[0mrun_app\u001b[0m\u001b[1;33m(\u001b[0m\u001b[0mapp\u001b[0m\u001b[1;33m)\u001b[0m\u001b[1;33m\u001b[0m\u001b[1;33m\u001b[0m\u001b[0m\n\u001b[0m",
      "\u001b[1;32m~\\.conda\\envs\\py39\\lib\\site-packages\\shiny\\_main.py\u001b[0m in \u001b[0;36mrun_app\u001b[1;34m(app, host, port, autoreload_port, reload, reload_dirs, reload_includes, reload_excludes, ws_max_size, log_level, app_dir, factory, launch_browser, dev_mode, **kwargs)\u001b[0m\n\u001b[0;32m    365\u001b[0m     \u001b[0mmaybe_setup_rsw_proxying\u001b[0m\u001b[1;33m(\u001b[0m\u001b[0mlog_config\u001b[0m\u001b[1;33m)\u001b[0m\u001b[1;33m\u001b[0m\u001b[1;33m\u001b[0m\u001b[0m\n\u001b[0;32m    366\u001b[0m \u001b[1;33m\u001b[0m\u001b[0m\n\u001b[1;32m--> 367\u001b[1;33m     uvicorn.run(  # pyright: ignore[reportUnknownMemberType]\n\u001b[0m\u001b[0;32m    368\u001b[0m         \u001b[0mapp\u001b[0m\u001b[1;33m,\u001b[0m\u001b[1;33m\u001b[0m\u001b[1;33m\u001b[0m\u001b[0m\n\u001b[0;32m    369\u001b[0m         \u001b[0mhost\u001b[0m\u001b[1;33m=\u001b[0m\u001b[0mhost\u001b[0m\u001b[1;33m,\u001b[0m\u001b[1;33m\u001b[0m\u001b[1;33m\u001b[0m\u001b[0m\n",
      "\u001b[1;32m~\\.conda\\envs\\py39\\lib\\site-packages\\uvicorn\\main.py\u001b[0m in \u001b[0;36mrun\u001b[1;34m(app, host, port, uds, fd, loop, http, ws, ws_max_size, ws_max_queue, ws_ping_interval, ws_ping_timeout, ws_per_message_deflate, lifespan, interface, reload, reload_dirs, reload_includes, reload_excludes, reload_delay, workers, env_file, log_config, log_level, access_log, proxy_headers, server_header, date_header, forwarded_allow_ips, root_path, limit_concurrency, backlog, limit_max_requests, timeout_keep_alive, timeout_graceful_shutdown, ssl_keyfile, ssl_certfile, ssl_keyfile_password, ssl_version, ssl_cert_reqs, ssl_ca_certs, ssl_ciphers, headers, use_colors, app_dir, factory, h11_max_incomplete_event_size)\u001b[0m\n\u001b[0;32m    577\u001b[0m             \u001b[0mMultiprocess\u001b[0m\u001b[1;33m(\u001b[0m\u001b[0mconfig\u001b[0m\u001b[1;33m,\u001b[0m \u001b[0mtarget\u001b[0m\u001b[1;33m=\u001b[0m\u001b[0mserver\u001b[0m\u001b[1;33m.\u001b[0m\u001b[0mrun\u001b[0m\u001b[1;33m,\u001b[0m \u001b[0msockets\u001b[0m\u001b[1;33m=\u001b[0m\u001b[1;33m[\u001b[0m\u001b[0msock\u001b[0m\u001b[1;33m]\u001b[0m\u001b[1;33m)\u001b[0m\u001b[1;33m.\u001b[0m\u001b[0mrun\u001b[0m\u001b[1;33m(\u001b[0m\u001b[1;33m)\u001b[0m\u001b[1;33m\u001b[0m\u001b[1;33m\u001b[0m\u001b[0m\n\u001b[0;32m    578\u001b[0m         \u001b[1;32melse\u001b[0m\u001b[1;33m:\u001b[0m\u001b[1;33m\u001b[0m\u001b[1;33m\u001b[0m\u001b[0m\n\u001b[1;32m--> 579\u001b[1;33m             \u001b[0mserver\u001b[0m\u001b[1;33m.\u001b[0m\u001b[0mrun\u001b[0m\u001b[1;33m(\u001b[0m\u001b[1;33m)\u001b[0m\u001b[1;33m\u001b[0m\u001b[1;33m\u001b[0m\u001b[0m\n\u001b[0m\u001b[0;32m    580\u001b[0m     \u001b[1;32mexcept\u001b[0m \u001b[0mKeyboardInterrupt\u001b[0m\u001b[1;33m:\u001b[0m\u001b[1;33m\u001b[0m\u001b[1;33m\u001b[0m\u001b[0m\n\u001b[0;32m    581\u001b[0m         \u001b[1;32mpass\u001b[0m  \u001b[1;31m# pragma: full coverage\u001b[0m\u001b[1;33m\u001b[0m\u001b[1;33m\u001b[0m\u001b[0m\n",
      "\u001b[1;32m~\\.conda\\envs\\py39\\lib\\site-packages\\uvicorn\\server.py\u001b[0m in \u001b[0;36mrun\u001b[1;34m(self, sockets)\u001b[0m\n\u001b[0;32m     63\u001b[0m     \u001b[1;32mdef\u001b[0m \u001b[0mrun\u001b[0m\u001b[1;33m(\u001b[0m\u001b[0mself\u001b[0m\u001b[1;33m,\u001b[0m \u001b[0msockets\u001b[0m\u001b[1;33m:\u001b[0m \u001b[0mlist\u001b[0m\u001b[1;33m[\u001b[0m\u001b[0msocket\u001b[0m\u001b[1;33m.\u001b[0m\u001b[0msocket\u001b[0m\u001b[1;33m]\u001b[0m \u001b[1;33m|\u001b[0m \u001b[1;32mNone\u001b[0m \u001b[1;33m=\u001b[0m \u001b[1;32mNone\u001b[0m\u001b[1;33m)\u001b[0m \u001b[1;33m->\u001b[0m \u001b[1;32mNone\u001b[0m\u001b[1;33m:\u001b[0m\u001b[1;33m\u001b[0m\u001b[1;33m\u001b[0m\u001b[0m\n\u001b[0;32m     64\u001b[0m         \u001b[0mself\u001b[0m\u001b[1;33m.\u001b[0m\u001b[0mconfig\u001b[0m\u001b[1;33m.\u001b[0m\u001b[0msetup_event_loop\u001b[0m\u001b[1;33m(\u001b[0m\u001b[1;33m)\u001b[0m\u001b[1;33m\u001b[0m\u001b[1;33m\u001b[0m\u001b[0m\n\u001b[1;32m---> 65\u001b[1;33m         \u001b[1;32mreturn\u001b[0m \u001b[0masyncio\u001b[0m\u001b[1;33m.\u001b[0m\u001b[0mrun\u001b[0m\u001b[1;33m(\u001b[0m\u001b[0mself\u001b[0m\u001b[1;33m.\u001b[0m\u001b[0mserve\u001b[0m\u001b[1;33m(\u001b[0m\u001b[0msockets\u001b[0m\u001b[1;33m=\u001b[0m\u001b[0msockets\u001b[0m\u001b[1;33m)\u001b[0m\u001b[1;33m)\u001b[0m\u001b[1;33m\u001b[0m\u001b[1;33m\u001b[0m\u001b[0m\n\u001b[0m\u001b[0;32m     66\u001b[0m \u001b[1;33m\u001b[0m\u001b[0m\n\u001b[0;32m     67\u001b[0m     \u001b[1;32masync\u001b[0m \u001b[1;32mdef\u001b[0m \u001b[0mserve\u001b[0m\u001b[1;33m(\u001b[0m\u001b[0mself\u001b[0m\u001b[1;33m,\u001b[0m \u001b[0msockets\u001b[0m\u001b[1;33m:\u001b[0m \u001b[0mlist\u001b[0m\u001b[1;33m[\u001b[0m\u001b[0msocket\u001b[0m\u001b[1;33m.\u001b[0m\u001b[0msocket\u001b[0m\u001b[1;33m]\u001b[0m \u001b[1;33m|\u001b[0m \u001b[1;32mNone\u001b[0m \u001b[1;33m=\u001b[0m \u001b[1;32mNone\u001b[0m\u001b[1;33m)\u001b[0m \u001b[1;33m->\u001b[0m \u001b[1;32mNone\u001b[0m\u001b[1;33m:\u001b[0m\u001b[1;33m\u001b[0m\u001b[1;33m\u001b[0m\u001b[0m\n",
      "\u001b[1;32m~\\.conda\\envs\\py39\\lib\\asyncio\\runners.py\u001b[0m in \u001b[0;36mrun\u001b[1;34m(main, debug)\u001b[0m\n\u001b[0;32m     31\u001b[0m     \"\"\"\n\u001b[0;32m     32\u001b[0m     \u001b[1;32mif\u001b[0m \u001b[0mevents\u001b[0m\u001b[1;33m.\u001b[0m\u001b[0m_get_running_loop\u001b[0m\u001b[1;33m(\u001b[0m\u001b[1;33m)\u001b[0m \u001b[1;32mis\u001b[0m \u001b[1;32mnot\u001b[0m \u001b[1;32mNone\u001b[0m\u001b[1;33m:\u001b[0m\u001b[1;33m\u001b[0m\u001b[1;33m\u001b[0m\u001b[0m\n\u001b[1;32m---> 33\u001b[1;33m         raise RuntimeError(\n\u001b[0m\u001b[0;32m     34\u001b[0m             \"asyncio.run() cannot be called from a running event loop\")\n\u001b[0;32m     35\u001b[0m \u001b[1;33m\u001b[0m\u001b[0m\n",
      "\u001b[1;31mRuntimeError\u001b[0m: asyncio.run() cannot be called from a running event loop"
     ]
    }
   ],
   "source": [
    "run_app(app)"
   ]
  }
 ],
 "metadata": {
  "kernelspec": {
   "display_name": "Python (venv)",
   "language": "python",
   "name": "myenv"
  },
  "language_info": {
   "codemirror_mode": {
    "name": "ipython",
    "version": 3
   },
   "file_extension": ".py",
   "mimetype": "text/x-python",
   "name": "python",
   "nbconvert_exporter": "python",
   "pygments_lexer": "ipython3",
   "version": "3.13.1"
  }
 },
 "nbformat": 4,
 "nbformat_minor": 5
}
