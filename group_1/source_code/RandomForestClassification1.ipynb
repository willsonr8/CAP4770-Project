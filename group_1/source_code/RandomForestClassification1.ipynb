{
 "cells": [
  {
   "cell_type": "code",
   "execution_count": 6,
   "id": "f8113205-ab54-4c6b-8bdf-dc32264f2921",
   "metadata": {},
   "outputs": [],
   "source": [
    "import pandas as pd\n",
    "import matplotlib.pyplot as plt\n",
    "import seaborn as sns\n",
    "import sklearn\n",
    "import warnings\n",
    "import math\n",
    "import numpy as np\n",
    "\n",
    "from sklearn.preprocessing import LabelEncoder\n",
    "from sklearn.impute import KNNImputer\n",
    "from sklearn.model_selection import train_test_split\n",
    "from sklearn.preprocessing import StandardScaler\n",
    "from sklearn.ensemble import RandomForestRegressor, RandomForestClassifier\n",
    "from sklearn.model_selection import cross_val_score\n",
    "from sklearn.metrics import precision_score, recall_score, f1_score\n",
    "\n",
    "warnings.filterwarnings('ignore')"
   ]
  },
  {
   "cell_type": "code",
   "execution_count": 7,
   "id": "e956d0db-f6b7-443e-b784-750d72bc4ba2",
   "metadata": {},
   "outputs": [],
   "source": [
    "# dataframe from Notebook.ipynb that hosts glucose levels and step count for each user\n",
    "# replaces all NaN steps with 0 (no steps) and all NaN glucose with the user's rolling mean. Some steps occur before glucose is calculated, thus the user's global mean is used\n",
    "\n",
    "raw_df = pd.read_csv(\"group_1/Datasets/glucose_steps.csv\")\n",
    "def fix_NaN(df):\n",
    "    df = df.sort_values([\"user_id\", \"timestamp\"])\n",
    "\n",
    "    df[\"val1\"] = df[\"val1\"].fillna(0)\n",
    "\n",
    "    df[\"glucose_running_mean\"] = (df.groupby(\"user_id\", group_keys=False)[\"glucose\"].apply(lambda x: x.expanding().mean()))\n",
    "\n",
    "    df[\"glucose\"] = df[\"glucose\"].fillna(df[\"glucose_running_mean\"])\n",
    "    global_mean = df[\"glucose\"].mean()\n",
    "    df[\"glucose\"] = df[\"glucose\"].fillna(global_mean)\n",
    "\n",
    "\n",
    "    df.drop(columns=[\"glucose_running_mean\"], inplace=True)\n",
    "\n",
    "    return df"
   ]
  },
  {
   "cell_type": "code",
   "execution_count": 8,
   "id": "1551d024-c93e-4a6b-bc68-f3c1512c3114",
   "metadata": {},
   "outputs": [],
   "source": [
    "# encodes user_id as a category\n",
    "\n",
    "df = fix_NaN(raw_df)\n",
    "#df.info()\n",
    "df[\"user_id\"] = df[\"user_id\"].astype(\"category\") \n",
    "df[\"user_id_enc\"] = df[\"user_id\"].cat.codes \n",
    "df = df.sort_values([\"user_id\", \"timestamp\"])"
   ]
  },
  {
   "cell_type": "code",
   "execution_count": 9,
   "id": "814f6ca4-5667-4c55-a38f-e21ed081cec5",
   "metadata": {},
   "outputs": [],
   "source": [
    "df = df.sort_values([\"user_id\", \"timestamp\"])\n",
    "\n",
    "# finds user baselines\n",
    "df[\"baseline_glucose\"] = df.groupby(\"user_id\")[\"glucose\"].transform(\"mean\")\n",
    "df[\"baseline_val1\"] = df.groupby(\"user_id\")[\"val1\"].transform(\"mean\")\n",
    "\n",
    "# finds change from baseline\n",
    "df[\"val1_delta\"] = df[\"val1\"] - df[\"baseline_val1\"]\n",
    "\n",
    "# encodes glucsoe levels of greater than 140 mg/dL as high (1) where normal is (0); this is the classification target\n",
    "df[\"glucose_binary\"] = (df[\"glucose\"] > 140).astype(int)"
   ]
  },
  {
   "cell_type": "code",
   "execution_count": 10,
   "id": "010f604c-da45-4811-b843-aacd700ce81f",
   "metadata": {},
   "outputs": [
    {
     "name": "stdout",
     "output_type": "stream",
     "text": [
      "              precision    recall  f1-score   support\n",
      "\n",
      "           0       0.96      0.71      0.82      6531\n",
      "           1       0.19      0.70      0.30       641\n",
      "\n",
      "    accuracy                           0.71      7172\n",
      "   macro avg       0.58      0.71      0.56      7172\n",
      "weighted avg       0.89      0.71      0.77      7172\n",
      "\n"
     ]
    }
   ],
   "source": [
    "train_dfs = []\n",
    "test_dfs = []\n",
    "\n",
    "for user in df[\"user_id\"].unique():\n",
    "    user_df = df[df[\"user_id\"] == user].copy()\n",
    "    cutoff = int(0.8 * len(user_df))  # partitions data into train and test (0.8, 0.2)\n",
    "    user_train = user_df.iloc[:cutoff]\n",
    "    user_test = user_df.iloc[cutoff:]\n",
    "    train_dfs.append(user_train)\n",
    "    test_dfs.append(user_test)\n",
    "\n",
    "df_train = pd.concat(train_dfs)\n",
    "df_test = pd.concat(test_dfs)\n",
    "\n",
    "# could change val1 to val1_delta to take into account usual activity levels but I dont think thats the point. Also, could take into account baseline glucose but I also dont think thats the point\n",
    "feature_cols = [\"val1\", \"user_id_enc\"]\n",
    "X_train = df_train[feature_cols]\n",
    "y_train = df_train[\"glucose_binary\"]\n",
    "X_test = df_test[feature_cols]\n",
    "y_test = df_test[\"glucose_binary\"]\n",
    "\n",
    "# sets up classifier\n",
    "clf = RandomForestClassifier(\n",
    "    n_estimators=100,\n",
    "    class_weight=\"balanced\",\n",
    "    random_state=42\n",
    ")\n",
    "\n",
    "clf.fit(X_train, y_train)\n",
    "\n",
    "# uses classifier to predict glucose binaries based on steps\n",
    "y_pred = clf.predict(X_test)\n",
    "\n",
    "print(sklearn.metrics.classification_report(y_test, y_pred))\n",
    "\n",
    "# IMPORTANT: this model classifies specific instances of high blood sugar based on user-specific trends. Modifications must be made to predict if a user has diabetes or does not. The dataset does not say which user is diabetic but it is probably user 14 or 15. "
   ]
  },
  {
   "cell_type": "code",
   "execution_count": null,
   "id": "8ee7f163-e629-4c9f-b6cd-f9b26c276baf",
   "metadata": {},
   "outputs": [],
   "source": []
  }
 ],
 "metadata": {
  "kernelspec": {
   "display_name": "Python (venv)",
   "language": "python",
   "name": "myenv"
  },
  "language_info": {
   "codemirror_mode": {
    "name": "ipython",
    "version": 3
   },
   "file_extension": ".py",
   "mimetype": "text/x-python",
   "name": "python",
   "nbconvert_exporter": "python",
   "pygments_lexer": "ipython3",
   "version": "3.13.1"
  }
 },
 "nbformat": 4,
 "nbformat_minor": 5
}
