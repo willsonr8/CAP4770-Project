{
 "cells": [
  {
   "cell_type": "code",
   "execution_count": 28,
   "id": "18b5d99d-d3b3-4622-a8bd-9405b6b7d20c",
   "metadata": {},
   "outputs": [],
   "source": [
    "from sklearn.metrics import precision_score, recall_score, f1_score, accuracy_score\n",
    "import xgboost as xgb\n",
    "from sklearn.model_selection import train_test_split\n",
    "import numpy as np\n",
    "import matplotlib.pyplot as plt\n",
    "import pandas as pd\n",
    "import sklearn"
   ]
  },
  {
   "cell_type": "code",
   "execution_count": 21,
   "id": "b89c47a1-60fa-4586-940d-ce1b1c004da5",
   "metadata": {},
   "outputs": [],
   "source": [
    "# dataframe from Notebook.ipynb that hosts glucose levels and step count for each user\n",
    "# replaces all NaN steps with 0 (no steps) and all NaN glucose with the user's rolling mean. Some steps occur before glucose is calculated, thus the user's global mean is used\n",
    "\n",
    "raw_df = pd.read_csv(\"../Datasets/glucose_steps.csv\")\n",
    "def fix_NaN(df):\n",
    "    df = df.sort_values([\"user_id\", \"timestamp\"])\n",
    "\n",
    "    df[\"val1\"] = df[\"val1\"].fillna(0)\n",
    "\n",
    "    df[\"glucose_running_mean\"] = (df.groupby(\"user_id\", group_keys=False)[\"glucose\"].apply(lambda x: x.expanding().mean()))\n",
    "\n",
    "    df[\"glucose\"] = df[\"glucose\"].fillna(df[\"glucose_running_mean\"])\n",
    "    global_mean = df[\"glucose\"].mean()\n",
    "    df[\"glucose\"] = df[\"glucose\"].fillna(global_mean)\n",
    "\n",
    "\n",
    "    df.drop(columns=[\"glucose_running_mean\"], inplace=True)\n",
    "\n",
    "    return df"
   ]
  },
  {
   "cell_type": "code",
   "execution_count": 22,
   "id": "04578686-13dd-4b63-a661-81b4a63fedfb",
   "metadata": {},
   "outputs": [],
   "source": [
    "# encodes user_id as a category\n",
    "\n",
    "df = fix_NaN(raw_df)\n",
    "#df.info()\n",
    "df[\"user_id\"] = df[\"user_id\"].astype(\"category\") \n",
    "df[\"user_id_enc\"] = df[\"user_id\"].cat.codes \n",
    "df = df.sort_values([\"user_id\", \"timestamp\"])"
   ]
  },
  {
   "cell_type": "code",
   "execution_count": 23,
   "id": "d45cce8c-fc4b-459a-879d-deaabb9af80d",
   "metadata": {},
   "outputs": [
    {
     "name": "stderr",
     "output_type": "stream",
     "text": [
      "C:\\Users\\wills\\AppData\\Local\\Temp\\ipykernel_27336\\1688753135.py:4: FutureWarning: The default of observed=False is deprecated and will be changed to True in a future version of pandas. Pass observed=False to retain current behavior or observed=True to adopt the future default and silence this warning.\n",
      "  df[\"baseline_glucose\"] = df.groupby(\"user_id\")[\"glucose\"].transform(\"mean\")\n",
      "C:\\Users\\wills\\AppData\\Local\\Temp\\ipykernel_27336\\1688753135.py:5: FutureWarning: The default of observed=False is deprecated and will be changed to True in a future version of pandas. Pass observed=False to retain current behavior or observed=True to adopt the future default and silence this warning.\n",
      "  df[\"baseline_val1\"] = df.groupby(\"user_id\")[\"val1\"].transform(\"mean\")\n"
     ]
    }
   ],
   "source": [
    "df = df.sort_values([\"user_id\", \"timestamp\"])\n",
    "\n",
    "# finds user baselines\n",
    "df[\"baseline_glucose\"] = df.groupby(\"user_id\")[\"glucose\"].transform(\"mean\")\n",
    "df[\"baseline_val1\"] = df.groupby(\"user_id\")[\"val1\"].transform(\"mean\")\n",
    "\n",
    "# finds change from baseline\n",
    "df[\"val1_delta\"] = df[\"val1\"] - df[\"baseline_val1\"]\n",
    "\n",
    "# encodes glucsoe levels of greater than 140 mg/dL as high (1) where normal is (0); this is the classification target\n",
    "df[\"glucose_binary\"] = (df[\"glucose\"] > 140).astype(int)"
   ]
  },
  {
   "cell_type": "code",
   "execution_count": 30,
   "id": "2ab43777-be92-4675-b3fc-39badd136510",
   "metadata": {},
   "outputs": [
    {
     "name": "stdout",
     "output_type": "stream",
     "text": [
      "Accuracy of the model is: 91.06246514221974\n",
      "              precision    recall  f1-score   support\n",
      "\n",
      "           0       0.91      1.00      0.95      6531\n",
      "           1       0.00      0.00      0.00       641\n",
      "\n",
      "    accuracy                           0.91      7172\n",
      "   macro avg       0.46      0.50      0.48      7172\n",
      "weighted avg       0.83      0.91      0.87      7172\n",
      "\n"
     ]
    },
    {
     "name": "stderr",
     "output_type": "stream",
     "text": [
      "C:\\Users\\wills\\OneDrive\\Documents\\Spring2025\\CAP4770\\JupyterLabs\\CAP4770-Project\\venv\\Lib\\site-packages\\sklearn\\metrics\\_classification.py:1565: UndefinedMetricWarning: Precision is ill-defined and being set to 0.0 in labels with no predicted samples. Use `zero_division` parameter to control this behavior.\n",
      "  _warn_prf(average, modifier, f\"{metric.capitalize()} is\", len(result))\n",
      "C:\\Users\\wills\\OneDrive\\Documents\\Spring2025\\CAP4770\\JupyterLabs\\CAP4770-Project\\venv\\Lib\\site-packages\\sklearn\\metrics\\_classification.py:1565: UndefinedMetricWarning: Precision is ill-defined and being set to 0.0 in labels with no predicted samples. Use `zero_division` parameter to control this behavior.\n",
      "  _warn_prf(average, modifier, f\"{metric.capitalize()} is\", len(result))\n",
      "C:\\Users\\wills\\OneDrive\\Documents\\Spring2025\\CAP4770\\JupyterLabs\\CAP4770-Project\\venv\\Lib\\site-packages\\sklearn\\metrics\\_classification.py:1565: UndefinedMetricWarning: Precision is ill-defined and being set to 0.0 in labels with no predicted samples. Use `zero_division` parameter to control this behavior.\n",
      "  _warn_prf(average, modifier, f\"{metric.capitalize()} is\", len(result))\n"
     ]
    }
   ],
   "source": [
    "train_dfs = []\n",
    "test_dfs = []\n",
    "\n",
    "for user in df[\"user_id\"].unique():\n",
    "    user_df = df[df[\"user_id\"] == user].copy()\n",
    "    cutoff = int(0.8 * len(user_df))  # partitions data into train and test (0.8, 0.2)\n",
    "    user_train = user_df.iloc[:cutoff]\n",
    "    user_test = user_df.iloc[cutoff:]\n",
    "    train_dfs.append(user_train)\n",
    "    test_dfs.append(user_test)\n",
    "\n",
    "df_train = pd.concat(train_dfs)\n",
    "df_test = pd.concat(test_dfs)\n",
    "\n",
    "# could change val1 to val1_delta to take into account usual activity levels but I dont think thats the point. Also, could take into account baseline glucose but I also dont think thats the point\n",
    "feature_cols = [\"val1\", \"user_id_enc\"]\n",
    "X_train = df_train[feature_cols]\n",
    "y_train = df_train[\"glucose_binary\"]\n",
    "X_test = df_test[feature_cols]\n",
    "y_test = df_test[\"glucose_binary\"]\n",
    "\n",
    "xgb_train = xgb.DMatrix(X_train, y_train, enable_categorical=True)\n",
    "xgb_test = xgb.DMatrix(X_test, y_test, enable_categorical=True)\n",
    "\n",
    "n=50\n",
    "params = {\n",
    "    'objective': 'binary:logistic',\n",
    "    'max_depth': 3,\n",
    "    'learning_rate': 0.1,\n",
    "}\n",
    "\n",
    "model = xgb.train(params=params,dtrain=xgb_train,num_boost_round=n)\n",
    "\n",
    "preds = model.predict(xgb_test)\n",
    "preds = preds.astype(int)\n",
    "accuracy= accuracy_score(y_test,preds)\n",
    "print('Accuracy of the model is:', accuracy*100)\n",
    "\n",
    "\n",
    "print(sklearn.metrics.classification_report(y_test, preds))\n",
    "\n",
    "# IMPORTANT: this model classifies specific instances of high blood sugar based on user-specific trends. Modifications must be made to predict if a user has diabetes or does not. The dataset does not say which user is diabetic but it is probably user 14 or 15. "
   ]
  },
  {
   "cell_type": "code",
   "execution_count": null,
   "id": "aca347a5-8b46-4c2e-afa9-27f10c93e150",
   "metadata": {},
   "outputs": [],
   "source": []
  }
 ],
 "metadata": {
  "kernelspec": {
   "display_name": "Python (venv)",
   "language": "python",
   "name": "myenv"
  },
  "language_info": {
   "codemirror_mode": {
    "name": "ipython",
    "version": 3
   },
   "file_extension": ".py",
   "mimetype": "text/x-python",
   "name": "python",
   "nbconvert_exporter": "python",
   "pygments_lexer": "ipython3",
   "version": "3.13.1"
  }
 },
 "nbformat": 4,
 "nbformat_minor": 5
}
