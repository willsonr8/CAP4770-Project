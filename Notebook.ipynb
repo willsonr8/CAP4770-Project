{
 "cells": [
  {
   "cell_type": "code",
   "execution_count": 34,
   "id": "59e8d3cd-0877-4013-b996-9c3cc716256c",
   "metadata": {},
   "outputs": [],
   "source": [
    "import pandas as pd\n",
    "import numpy as np\n",
    "import scipy\n",
    "import matplotlib.pyplot as plt\n",
    "import sklearn\n",
    "import pyspark\n",
    "from pathlib import Path"
   ]
  },
  {
   "cell_type": "code",
   "execution_count": 35,
   "id": "3b4df6f3-a34c-4f54-95cc-3edc9891d85c",
   "metadata": {},
   "outputs": [],
   "source": [
    "# Preprocessing"
   ]
  },
  {
   "cell_type": "code",
   "execution_count": 36,
   "id": "2c00273f-bab3-4735-8513-cfee2dc35a3e",
   "metadata": {},
   "outputs": [],
   "source": [
    "# returns list of timestamps and list of glucose_values for each user. Could pair them and return a combined list\n",
    "def proc_glucose(path):\n",
    "    user_value = str(path)[-2:] if str(path)[-2:].isdigit() else str(path)[-1]\n",
    "    full_path = f\"{str(path).replace(\"\\\\\", \"/\")}/Glucose/CGM_User{user_value}.csv\"\n",
    "    df = pd.read_csv(full_path)\n",
    "    timestamps = df[\"Timestamp (YYYY-MM-DDThh:mm:ss)\"].tolist()\n",
    "    glucose_values = df[\"Glucose Value (mg/dL)\"].tolist()\n",
    "    return timestamps, glucose_values"
   ]
  },
  {
   "cell_type": "code",
   "execution_count": 37,
   "id": "18ef80d0-0b73-4aa4-bee7-14d0483ac9a6",
   "metadata": {},
   "outputs": [],
   "source": [
    "patient_folder = Path(\"Datasets/glucdict-1/Glucdict Dataset\")\n",
    "for user_dir in patient_folder.iterdir():\n",
    "    timestamps, glucose_values = proc_glucose(user_dir)"
   ]
  },
  {
   "cell_type": "code",
   "execution_count": null,
   "id": "35159e25-12a2-459d-874a-e7554a83c1d2",
   "metadata": {},
   "outputs": [],
   "source": []
  },
  {
   "cell_type": "code",
   "execution_count": null,
   "id": "de938f04-6ca9-4d9d-a1e0-410ee85a6e48",
   "metadata": {},
   "outputs": [],
   "source": []
  }
 ],
 "metadata": {
  "kernelspec": {
   "display_name": "Python (venv)",
   "language": "python",
   "name": "myenv"
  },
  "language_info": {
   "codemirror_mode": {
    "name": "ipython",
    "version": 3
   },
   "file_extension": ".py",
   "mimetype": "text/x-python",
   "name": "python",
   "nbconvert_exporter": "python",
   "pygments_lexer": "ipython3",
   "version": "3.13.1"
  }
 },
 "nbformat": 4,
 "nbformat_minor": 5
}
