{
 "cells": [
  {
   "cell_type": "code",
   "execution_count": 2,
   "id": "59e8d3cd-0877-4013-b996-9c3cc716256c",
   "metadata": {},
   "outputs": [
    {
     "name": "stderr",
     "output_type": "stream",
     "text": [
      "Matplotlib is building the font cache; this may take a moment.\n"
     ]
    }
   ],
   "source": [
    "import pandas as pd\n",
    "import numpy as np\n",
    "import scipy\n",
    "import matplotlib.pyplot as plt\n",
    "import sklearn\n",
    "import pyspark\n",
    "from pathlib import Path\n",
    "import csv\n",
    "import datetime\n",
    "import statistics"
   ]
  },
  {
   "cell_type": "code",
   "execution_count": 37,
   "id": "3b4df6f3-a34c-4f54-95cc-3edc9891d85c",
   "metadata": {},
   "outputs": [],
   "source": [
    "# Preprocessing"
   ]
  },
  {
   "cell_type": "code",
   "execution_count": 38,
   "id": "2c00273f-bab3-4735-8513-cfee2dc35a3e",
   "metadata": {},
   "outputs": [],
   "source": [
    "# returns list of timestamps and list of glucose_values for each user. Could pair them and return a combined list\n",
    "def proc_glucose(path):\n",
    "    user_value = str(path)[-2:] if str(path)[-2:].isdigit() else str(path)[-1]\n",
    "    # full_path = f\"{str(path).replace(\"\\\\\", \"/\")}/Glucose/CGM_User{user_value}.csv\"\n",
    "    full_path = f\"{Path(path).as_posix()}/Glucose/CGM_User{user_value}.csv\"\n",
    "    df = pd.read_csv(full_path)\n",
    "    timestamps = df[\"Timestamp (YYYY-MM-DDThh:mm:ss)\"].tolist()\n",
    "    glucose_values = df[\"Glucose Value (mg/dL)\"].tolist()\n",
    "    return timestamps, glucose_values, df, user_value\n",
    "\n",
    "allowed_sensor_ids = [18, 19, 21]\n",
    "\n",
    "sensor_map = {\n",
    "    1:  \"ACCELEROMETER\",\n",
    "    2:  \"MAGNETIC_FIELD\",\n",
    "    4:  \"GYROSCOPE\",\n",
    "    9:  \"GRAVITY\",\n",
    "    10: \"LINEAR_ACCELERATION\",\n",
    "    11: \"ROTATION_VECTOR\",\n",
    "    18: \"STEP_DETECTOR\",\n",
    "    19: \"STEP_COUNTER\",\n",
    "    21: \"HEART_RATE\",\n",
    "    99: \"EARTH_ACC\"\n",
    "}\n",
    "\n",
    "sensor_data = {\n",
    "    \"ACCELEROMETER\": [],\n",
    "    \"MAGNETIC_FIELD\": [],\n",
    "    \"GYROSCOPE\": [],\n",
    "    \"GRAVITY\": [],\n",
    "    \"LINEAR_ACCELERATION\": [],\n",
    "    \"ROTATION_VECTOR\": [],\n",
    "    \"STEP_DETECTOR\": [],\n",
    "    \"STEP_COUNTER\": [],\n",
    "    \"HEART_RATE\": [],\n",
    "    \"EARTH_ACC\": []\n",
    "}\n",
    "\n",
    "def proc_sensors(path, device_label):\n",
    "    chunk_list = []\n",
    "    full_path = Path(path).as_posix()  # Clean path\n",
    "    for chunk in pd.read_csv(full_path, header=None, names=[\"sensor_id\", \"timestamp\", \"val1\", \"val2\", \"val3\"], chunksize=50_000, low_memory=False):\n",
    "        filtered_chunk = chunk.loc[chunk[\"sensor_id\"].isin(allowed_sensor_ids)].copy()\n",
    "        filtered_chunk[\"timestamp\"] = pd.to_datetime(filtered_chunk[\"timestamp\"], unit=\"ms\", utc=True)\n",
    "        filtered_chunk[\"device\"] = device_label\n",
    "        chunk_list.append(filtered_chunk)\n",
    "    return pd.concat(chunk_list, ignore_index=True)\n"
   ]
  },
  {
   "cell_type": "code",
   "execution_count": 40,
   "id": "82df003c-7e99-42ee-9911-dc04c764b879",
   "metadata": {},
   "outputs": [],
   "source": [
    "patient_dfs = {}"
   ]
  },
  {
   "cell_type": "code",
   "execution_count": 42,
   "id": "35159e25-12a2-459d-874a-e7554a83c1d2",
   "metadata": {},
   "outputs": [
    {
     "name": "stderr",
     "output_type": "stream",
     "text": [
      "/var/folders/j0/s_ktjdw15zb63yfnpyn_tdj80000gn/T/ipykernel_2296/318136324.py:47: FutureWarning: The behavior of DataFrame concatenation with empty or all-NA entries is deprecated. In a future version, this will no longer exclude empty or all-NA columns when determining the result dtypes. To retain the old behavior, exclude the relevant entries before the concat operation.\n",
      "  return pd.concat(chunk_list, ignore_index=True)\n"
     ]
    }
   ],
   "source": [
    "patient_folder = Path(\"Datasets/glucdict-1/Glucdict Dataset\")\n",
    "for user_dir in patient_folder.iterdir():\n",
    "    if not user_dir.is_dir():\n",
    "        continue\n",
    "    \n",
    "    all_dfs = []\n",
    "\n",
    "    timestamps, glucose_values, gluc_df, user_value = proc_glucose(user_dir)\n",
    "\n",
    "    #all_dfs.append(gluc_df)\n",
    "    \n",
    "    phone_path = Path(f\"{user_dir}/Phone/Sensors\")\n",
    "    watch_path = Path(f\"{user_dir}/Watch\")\n",
    "    \n",
    "    if phone_path.is_dir():\n",
    "        for i in phone_path.iterdir():\n",
    "            if i.is_file() and i.suffix.lower() == '.csv':\n",
    "                df = proc_sensors(i, \"phone\")\n",
    "                all_dfs.append(df)\n",
    "    if watch_path.is_dir():\n",
    "        for j in watch_path.iterdir():\n",
    "            if j.is_file() and j.suffix.lower() == '.csv':\n",
    "                watch_sensors = proc_sensors(j, \"watch\")\n",
    "                all_dfs.append(watch_sensors)\n",
    "\n",
    "    patient_df = pd.concat(all_dfs, ignore_index=True)\n",
    "    patient_df[\"sensor_name\"] = patient_df[\"sensor_id\"].map(sensor_map)\n",
    "    patient_dfs[f\"User {user_value}\"] = {\n",
    "        \"Sensor Data\" : patient_df,\n",
    "        \"Glucose Data\" : gluc_df\n",
    "    }"
   ]
  },
  {
   "cell_type": "code",
   "execution_count": null,
   "id": "6f086221-1a73-47a5-9cd8-253000f5c1f8",
   "metadata": {},
   "outputs": [],
   "source": []
  },
  {
   "cell_type": "code",
   "execution_count": 44,
   "id": "de938f04-6ca9-4d9d-a1e0-410ee85a6e48",
   "metadata": {},
   "outputs": [
    {
     "name": "stdout",
     "output_type": "stream",
     "text": [
      "Index(['sensor_id', 'timestamp', 'val1', 'val2', 'val3', 'device',\n",
      "       'sensor_name'],\n",
      "      dtype='object')\n",
      "dict_keys(['User 5', 'User 4', 'User 3', 'User 14', 'User 13', 'User 12', 'User 15', 'User 8', 'User 6', 'User 1', 'User 7', 'User 9', 'User 10'])\n",
      "      Index Timestamp (YYYY-MM-DDThh:mm:ss) Glucose Value (mg/dL)  \\\n",
      "0         1             2021-12-21T14:01:57                   129   \n",
      "1         2             2021-12-21T14:06:57                   138   \n",
      "2         3             2021-12-21T14:11:57                   129   \n",
      "3         4             2021-12-21T14:16:57                   108   \n",
      "4         5             2021-12-21T14:21:57                    85   \n",
      "...     ...                             ...                   ...   \n",
      "2819   2820             2021-12-31T11:37:21                   140   \n",
      "2820   2821             2021-12-31T11:42:21                   138   \n",
      "2821   2822             2021-12-31T11:47:22                   136   \n",
      "2822   2823             2021-12-31T11:52:21                   132   \n",
      "2823   2824             2021-12-31T11:57:22                   128   \n",
      "\n",
      "      Transmitter Time (Long Integer) Transmitter ID  \n",
      "0                             3530474         8RT16Y  \n",
      "1                             3530774         8RT16Y  \n",
      "2                             3531074         8RT16Y  \n",
      "3                             3531374         8RT16Y  \n",
      "4                             3531674         8RT16Y  \n",
      "...                               ...            ...  \n",
      "2819                          4385774         8RT16Y  \n",
      "2820                          4386074         8RT16Y  \n",
      "2821                          4386374         8RT16Y  \n",
      "2822                          4386674         8RT16Y  \n",
      "2823                          4386974         8RT16Y  \n",
      "\n",
      "[2824 rows x 5 columns]\n"
     ]
    }
   ],
   "source": [
    "print(patient_df.columns)\n",
    "print(patient_dfs.keys())\n",
    "print(patient_dfs['User 10']['Glucose Data'])\n",
    "#print(patient_dfs['User 1']['Sensor Data'])\n",
    "#print(patient_dfs['User 1']['Glucose Data'])"
   ]
  },
  {
   "cell_type": "code",
   "execution_count": 46,
   "id": "ca083642-cc2c-43fb-9071-fba372eb0d04",
   "metadata": {},
   "outputs": [
    {
     "name": "stdout",
     "output_type": "stream",
     "text": [
      "Index(['sensor_id', 'timestamp', 'val1', 'val2', 'val3', 'device',\n",
      "       'sensor_name'],\n",
      "      dtype='object')\n",
      "Index(['Index', 'Timestamp (YYYY-MM-DDThh:mm:ss)', 'Glucose Value (mg/dL)',\n",
      "       'Transmitter Time (Long Integer)', 'Transmitter ID'],\n",
      "      dtype='object')\n"
     ]
    }
   ],
   "source": [
    "print(patient_df.columns)\n",
    "print(gluc_df.columns)"
   ]
  },
  {
   "cell_type": "code",
   "execution_count": 48,
   "id": "09db2c6a-d93e-4d63-ae7d-07282b6deff0",
   "metadata": {},
   "outputs": [],
   "source": [
    "def get_glucose_avg():\n",
    "    user_names = []\n",
    "    glucose_avg = []\n",
    "    for user, data in patient_dfs.items():\n",
    "        gluc_df = data[\"Glucose Data\"]  \n",
    "        if \"Glucose Value (mg/dL)\" in gluc_df.columns:\n",
    "            col = \"Glucose Value (mg/dL)\"\n",
    "        else:\n",
    "            raise KeyError(f\"Glucose column not found for user {user}\")\n",
    "        \n",
    "        gluc_series = pd.to_numeric(gluc_df[col], errors='coerce')\n",
    "        valid_gluc = gluc_series[(gluc_series > 0) & (gluc_series < 1000)]\n",
    "        avg = valid_gluc.mean()\n",
    "        user_names.append(user)\n",
    "        glucose_avg.append(avg)\n",
    "        \n",
    "    return user_names, glucose_avg\n",
    "\n",
    "        "
   ]
  },
  {
   "cell_type": "code",
   "execution_count": 50,
   "id": "01ad645e-1a6b-4655-bd9c-c7c1e4385804",
   "metadata": {},
   "outputs": [],
   "source": [
    "users, glucose_avg = get_glucose_avg()"
   ]
  },
  {
   "cell_type": "code",
   "execution_count": 52,
   "id": "46b8dd7e-440c-47ac-a526-ffdca325d78c",
   "metadata": {},
   "outputs": [
    {
     "data": {
      "image/png": "[encoded data removed]",
      "text/plain": [
       "<Figure size 1000x600 with 1 Axes>"
      ]
     },
     "metadata": {},
     "output_type": "display_data"
    }
   ],
   "source": [
    "\n",
    "plt.figure(figsize=(10, 6))\n",
    "plt.bar(users, glucose_avg)\n",
    "plt.xlabel(\"User\")\n",
    "plt.ylabel(\"Avg Glucose Value\")\n",
    "plt.title(\"Avg of Glucose Values for Each User\")\n",
    "plt.xticks(rotation=45)\n",
    "plt.ylim(0, 140)\n",
    "plt.grid(axis='y', color='gray', alpha=0.5)\n",
    "plt.yticks(range(0, 141, 10))\n",
    "plt.tight_layout()\n",
    "plt.show()"
   ]
  },
  {
   "cell_type": "code",
   "execution_count": 180,
   "id": "2830ebc4-fba0-4885-8079-c7c426fa6353",
   "metadata": {},
   "outputs": [
    {
     "name": "stderr",
     "output_type": "stream",
     "text": [
      "/var/folders/j0/s_ktjdw15zb63yfnpyn_tdj80000gn/T/ipykernel_2296/3999586697.py:33: DtypeWarning: Columns (2) have mixed types. Specify dtype option on import or set low_memory=False.\n",
      "  df = pd.read_csv(path, names=phone_sensor_column_names, header=1)\n",
      "/var/folders/j0/s_ktjdw15zb63yfnpyn_tdj80000gn/T/ipykernel_2296/3999586697.py:118: FutureWarning: 'T' is deprecated and will be removed in a future version, please use 'min' instead.\n",
      "  glucose_resampled = glucose_df.resample('5T').agg({\n",
      "/var/folders/j0/s_ktjdw15zb63yfnpyn_tdj80000gn/T/ipykernel_2296/3999586697.py:122: FutureWarning: 'T' is deprecated and will be removed in a future version, please use 'min' instead.\n",
      "  phone_resampled = phone_sensor_df.resample('5T').agg({\n",
      "/var/folders/j0/s_ktjdw15zb63yfnpyn_tdj80000gn/T/ipykernel_2296/3999586697.py:129: FutureWarning: 'T' is deprecated and will be removed in a future version, please use 'min' instead.\n",
      "  activity_resampled = phone_activity_df.resample('5T').agg({\n",
      "/var/folders/j0/s_ktjdw15zb63yfnpyn_tdj80000gn/T/ipykernel_2296/3999586697.py:135: FutureWarning: 'T' is deprecated and will be removed in a future version, please use 'min' instead.\n",
      "  watch_resampled = watch_sensor_df.resample('5T').agg({\n",
      "/var/folders/j0/s_ktjdw15zb63yfnpyn_tdj80000gn/T/ipykernel_2296/3999586697.py:41: DtypeWarning: Columns (2) have mixed types. Specify dtype option on import or set low_memory=False.\n",
      "  df = pd.read_csv(file, names=phone_sensor_column_names, header=1)\n",
      "/var/folders/j0/s_ktjdw15zb63yfnpyn_tdj80000gn/T/ipykernel_2296/3999586697.py:41: DtypeWarning: Columns (2) have mixed types. Specify dtype option on import or set low_memory=False.\n",
      "  df = pd.read_csv(file, names=phone_sensor_column_names, header=1)\n",
      "/var/folders/j0/s_ktjdw15zb63yfnpyn_tdj80000gn/T/ipykernel_2296/3999586697.py:41: DtypeWarning: Columns (2) have mixed types. Specify dtype option on import or set low_memory=False.\n",
      "  df = pd.read_csv(file, names=phone_sensor_column_names, header=1)\n",
      "/var/folders/j0/s_ktjdw15zb63yfnpyn_tdj80000gn/T/ipykernel_2296/3999586697.py:118: FutureWarning: 'T' is deprecated and will be removed in a future version, please use 'min' instead.\n",
      "  glucose_resampled = glucose_df.resample('5T').agg({\n",
      "/var/folders/j0/s_ktjdw15zb63yfnpyn_tdj80000gn/T/ipykernel_2296/3999586697.py:122: FutureWarning: 'T' is deprecated and will be removed in a future version, please use 'min' instead.\n",
      "  phone_resampled = phone_sensor_df.resample('5T').agg({\n",
      "/var/folders/j0/s_ktjdw15zb63yfnpyn_tdj80000gn/T/ipykernel_2296/3999586697.py:129: FutureWarning: 'T' is deprecated and will be removed in a future version, please use 'min' instead.\n",
      "  activity_resampled = phone_activity_df.resample('5T').agg({\n",
      "/var/folders/j0/s_ktjdw15zb63yfnpyn_tdj80000gn/T/ipykernel_2296/3999586697.py:135: FutureWarning: 'T' is deprecated and will be removed in a future version, please use 'min' instead.\n",
      "  watch_resampled = watch_sensor_df.resample('5T').agg({\n",
      "/var/folders/j0/s_ktjdw15zb63yfnpyn_tdj80000gn/T/ipykernel_2296/3999586697.py:41: DtypeWarning: Columns (2) have mixed types. Specify dtype option on import or set low_memory=False.\n",
      "  df = pd.read_csv(file, names=phone_sensor_column_names, header=1)\n",
      "/var/folders/j0/s_ktjdw15zb63yfnpyn_tdj80000gn/T/ipykernel_2296/3999586697.py:41: DtypeWarning: Columns (2) have mixed types. Specify dtype option on import or set low_memory=False.\n",
      "  df = pd.read_csv(file, names=phone_sensor_column_names, header=1)\n",
      "/var/folders/j0/s_ktjdw15zb63yfnpyn_tdj80000gn/T/ipykernel_2296/3999586697.py:41: DtypeWarning: Columns (2) have mixed types. Specify dtype option on import or set low_memory=False.\n",
      "  df = pd.read_csv(file, names=phone_sensor_column_names, header=1)\n",
      "/var/folders/j0/s_ktjdw15zb63yfnpyn_tdj80000gn/T/ipykernel_2296/3999586697.py:41: DtypeWarning: Columns (2) have mixed types. Specify dtype option on import or set low_memory=False.\n",
      "  df = pd.read_csv(file, names=phone_sensor_column_names, header=1)\n",
      "/var/folders/j0/s_ktjdw15zb63yfnpyn_tdj80000gn/T/ipykernel_2296/3999586697.py:41: DtypeWarning: Columns (2) have mixed types. Specify dtype option on import or set low_memory=False.\n",
      "  df = pd.read_csv(file, names=phone_sensor_column_names, header=1)\n",
      "/var/folders/j0/s_ktjdw15zb63yfnpyn_tdj80000gn/T/ipykernel_2296/3999586697.py:41: DtypeWarning: Columns (2) have mixed types. Specify dtype option on import or set low_memory=False.\n",
      "  df = pd.read_csv(file, names=phone_sensor_column_names, header=1)\n",
      "/var/folders/j0/s_ktjdw15zb63yfnpyn_tdj80000gn/T/ipykernel_2296/3999586697.py:41: DtypeWarning: Columns (2) have mixed types. Specify dtype option on import or set low_memory=False.\n",
      "  df = pd.read_csv(file, names=phone_sensor_column_names, header=1)\n",
      "/var/folders/j0/s_ktjdw15zb63yfnpyn_tdj80000gn/T/ipykernel_2296/3999586697.py:41: DtypeWarning: Columns (2) have mixed types. Specify dtype option on import or set low_memory=False.\n",
      "  df = pd.read_csv(file, names=phone_sensor_column_names, header=1)\n"
     ]
    },
    {
     "name": "stdout",
     "output_type": "stream",
     "text": [
      "Error processing User3: time data \"21-10-29 13:42\" doesn't match format \"%Y-%m-%d %H:%M:%S.%f\", at position 1. You might want to try:\n",
      "    - passing `format` if your strings have a consistent format;\n",
      "    - passing `format='ISO8601'` if your strings are all ISO8601 but not necessarily in exactly the same format;\n",
      "    - passing `format='mixed'`, and the format will be inferred for each element individually. You might want to use `dayfirst` alongside this.\n"
     ]
    },
    {
     "name": "stderr",
     "output_type": "stream",
     "text": [
      "/var/folders/j0/s_ktjdw15zb63yfnpyn_tdj80000gn/T/ipykernel_2296/3999586697.py:118: FutureWarning: 'T' is deprecated and will be removed in a future version, please use 'min' instead.\n",
      "  glucose_resampled = glucose_df.resample('5T').agg({\n",
      "/var/folders/j0/s_ktjdw15zb63yfnpyn_tdj80000gn/T/ipykernel_2296/3999586697.py:122: FutureWarning: 'T' is deprecated and will be removed in a future version, please use 'min' instead.\n",
      "  phone_resampled = phone_sensor_df.resample('5T').agg({\n",
      "/var/folders/j0/s_ktjdw15zb63yfnpyn_tdj80000gn/T/ipykernel_2296/3999586697.py:129: FutureWarning: 'T' is deprecated and will be removed in a future version, please use 'min' instead.\n",
      "  activity_resampled = phone_activity_df.resample('5T').agg({\n",
      "/var/folders/j0/s_ktjdw15zb63yfnpyn_tdj80000gn/T/ipykernel_2296/3999586697.py:135: FutureWarning: 'T' is deprecated and will be removed in a future version, please use 'min' instead.\n",
      "  watch_resampled = watch_sensor_df.resample('5T').agg({\n",
      "/var/folders/j0/s_ktjdw15zb63yfnpyn_tdj80000gn/T/ipykernel_2296/3999586697.py:41: DtypeWarning: Columns (2) have mixed types. Specify dtype option on import or set low_memory=False.\n",
      "  df = pd.read_csv(file, names=phone_sensor_column_names, header=1)\n",
      "/var/folders/j0/s_ktjdw15zb63yfnpyn_tdj80000gn/T/ipykernel_2296/3999586697.py:118: FutureWarning: 'T' is deprecated and will be removed in a future version, please use 'min' instead.\n",
      "  glucose_resampled = glucose_df.resample('5T').agg({\n",
      "/var/folders/j0/s_ktjdw15zb63yfnpyn_tdj80000gn/T/ipykernel_2296/3999586697.py:122: FutureWarning: 'T' is deprecated and will be removed in a future version, please use 'min' instead.\n",
      "  phone_resampled = phone_sensor_df.resample('5T').agg({\n",
      "/var/folders/j0/s_ktjdw15zb63yfnpyn_tdj80000gn/T/ipykernel_2296/3999586697.py:129: FutureWarning: 'T' is deprecated and will be removed in a future version, please use 'min' instead.\n",
      "  activity_resampled = phone_activity_df.resample('5T').agg({\n",
      "/var/folders/j0/s_ktjdw15zb63yfnpyn_tdj80000gn/T/ipykernel_2296/3999586697.py:135: FutureWarning: 'T' is deprecated and will be removed in a future version, please use 'min' instead.\n",
      "  watch_resampled = watch_sensor_df.resample('5T').agg({\n",
      "/var/folders/j0/s_ktjdw15zb63yfnpyn_tdj80000gn/T/ipykernel_2296/3999586697.py:118: FutureWarning: 'T' is deprecated and will be removed in a future version, please use 'min' instead.\n",
      "  glucose_resampled = glucose_df.resample('5T').agg({\n",
      "/var/folders/j0/s_ktjdw15zb63yfnpyn_tdj80000gn/T/ipykernel_2296/3999586697.py:122: FutureWarning: 'T' is deprecated and will be removed in a future version, please use 'min' instead.\n",
      "  phone_resampled = phone_sensor_df.resample('5T').agg({\n",
      "/var/folders/j0/s_ktjdw15zb63yfnpyn_tdj80000gn/T/ipykernel_2296/3999586697.py:129: FutureWarning: 'T' is deprecated and will be removed in a future version, please use 'min' instead.\n",
      "  activity_resampled = phone_activity_df.resample('5T').agg({\n",
      "/var/folders/j0/s_ktjdw15zb63yfnpyn_tdj80000gn/T/ipykernel_2296/3999586697.py:135: FutureWarning: 'T' is deprecated and will be removed in a future version, please use 'min' instead.\n",
      "  watch_resampled = watch_sensor_df.resample('5T').agg({\n",
      "/var/folders/j0/s_ktjdw15zb63yfnpyn_tdj80000gn/T/ipykernel_2296/3999586697.py:118: FutureWarning: 'T' is deprecated and will be removed in a future version, please use 'min' instead.\n",
      "  glucose_resampled = glucose_df.resample('5T').agg({\n",
      "/var/folders/j0/s_ktjdw15zb63yfnpyn_tdj80000gn/T/ipykernel_2296/3999586697.py:122: FutureWarning: 'T' is deprecated and will be removed in a future version, please use 'min' instead.\n",
      "  phone_resampled = phone_sensor_df.resample('5T').agg({\n",
      "/var/folders/j0/s_ktjdw15zb63yfnpyn_tdj80000gn/T/ipykernel_2296/3999586697.py:129: FutureWarning: 'T' is deprecated and will be removed in a future version, please use 'min' instead.\n",
      "  activity_resampled = phone_activity_df.resample('5T').agg({\n",
      "/var/folders/j0/s_ktjdw15zb63yfnpyn_tdj80000gn/T/ipykernel_2296/3999586697.py:135: FutureWarning: 'T' is deprecated and will be removed in a future version, please use 'min' instead.\n",
      "  watch_resampled = watch_sensor_df.resample('5T').agg({\n",
      "/var/folders/j0/s_ktjdw15zb63yfnpyn_tdj80000gn/T/ipykernel_2296/3999586697.py:41: DtypeWarning: Columns (2) have mixed types. Specify dtype option on import or set low_memory=False.\n",
      "  df = pd.read_csv(file, names=phone_sensor_column_names, header=1)\n",
      "/var/folders/j0/s_ktjdw15zb63yfnpyn_tdj80000gn/T/ipykernel_2296/3999586697.py:41: DtypeWarning: Columns (2) have mixed types. Specify dtype option on import or set low_memory=False.\n",
      "  df = pd.read_csv(file, names=phone_sensor_column_names, header=1)\n",
      "/var/folders/j0/s_ktjdw15zb63yfnpyn_tdj80000gn/T/ipykernel_2296/3999586697.py:41: DtypeWarning: Columns (2) have mixed types. Specify dtype option on import or set low_memory=False.\n",
      "  df = pd.read_csv(file, names=phone_sensor_column_names, header=1)\n",
      "/var/folders/j0/s_ktjdw15zb63yfnpyn_tdj80000gn/T/ipykernel_2296/3999586697.py:41: DtypeWarning: Columns (2) have mixed types. Specify dtype option on import or set low_memory=False.\n",
      "  df = pd.read_csv(file, names=phone_sensor_column_names, header=1)\n",
      "/var/folders/j0/s_ktjdw15zb63yfnpyn_tdj80000gn/T/ipykernel_2296/3999586697.py:41: DtypeWarning: Columns (2) have mixed types. Specify dtype option on import or set low_memory=False.\n",
      "  df = pd.read_csv(file, names=phone_sensor_column_names, header=1)\n",
      "/var/folders/j0/s_ktjdw15zb63yfnpyn_tdj80000gn/T/ipykernel_2296/3999586697.py:118: FutureWarning: 'T' is deprecated and will be removed in a future version, please use 'min' instead.\n",
      "  glucose_resampled = glucose_df.resample('5T').agg({\n",
      "/var/folders/j0/s_ktjdw15zb63yfnpyn_tdj80000gn/T/ipykernel_2296/3999586697.py:122: FutureWarning: 'T' is deprecated and will be removed in a future version, please use 'min' instead.\n",
      "  phone_resampled = phone_sensor_df.resample('5T').agg({\n",
      "/var/folders/j0/s_ktjdw15zb63yfnpyn_tdj80000gn/T/ipykernel_2296/3999586697.py:129: FutureWarning: 'T' is deprecated and will be removed in a future version, please use 'min' instead.\n",
      "  activity_resampled = phone_activity_df.resample('5T').agg({\n",
      "/var/folders/j0/s_ktjdw15zb63yfnpyn_tdj80000gn/T/ipykernel_2296/3999586697.py:135: FutureWarning: 'T' is deprecated and will be removed in a future version, please use 'min' instead.\n",
      "  watch_resampled = watch_sensor_df.resample('5T').agg({\n",
      "/var/folders/j0/s_ktjdw15zb63yfnpyn_tdj80000gn/T/ipykernel_2296/3999586697.py:118: FutureWarning: 'T' is deprecated and will be removed in a future version, please use 'min' instead.\n",
      "  glucose_resampled = glucose_df.resample('5T').agg({\n",
      "/var/folders/j0/s_ktjdw15zb63yfnpyn_tdj80000gn/T/ipykernel_2296/3999586697.py:122: FutureWarning: 'T' is deprecated and will be removed in a future version, please use 'min' instead.\n",
      "  phone_resampled = phone_sensor_df.resample('5T').agg({\n",
      "/var/folders/j0/s_ktjdw15zb63yfnpyn_tdj80000gn/T/ipykernel_2296/3999586697.py:129: FutureWarning: 'T' is deprecated and will be removed in a future version, please use 'min' instead.\n",
      "  activity_resampled = phone_activity_df.resample('5T').agg({\n",
      "/var/folders/j0/s_ktjdw15zb63yfnpyn_tdj80000gn/T/ipykernel_2296/3999586697.py:135: FutureWarning: 'T' is deprecated and will be removed in a future version, please use 'min' instead.\n",
      "  watch_resampled = watch_sensor_df.resample('5T').agg({\n",
      "/var/folders/j0/s_ktjdw15zb63yfnpyn_tdj80000gn/T/ipykernel_2296/3999586697.py:41: DtypeWarning: Columns (2) have mixed types. Specify dtype option on import or set low_memory=False.\n",
      "  df = pd.read_csv(file, names=phone_sensor_column_names, header=1)\n",
      "/var/folders/j0/s_ktjdw15zb63yfnpyn_tdj80000gn/T/ipykernel_2296/3999586697.py:41: DtypeWarning: Columns (2) have mixed types. Specify dtype option on import or set low_memory=False.\n",
      "  df = pd.read_csv(file, names=phone_sensor_column_names, header=1)\n",
      "/var/folders/j0/s_ktjdw15zb63yfnpyn_tdj80000gn/T/ipykernel_2296/3999586697.py:41: DtypeWarning: Columns (2) have mixed types. Specify dtype option on import or set low_memory=False.\n",
      "  df = pd.read_csv(file, names=phone_sensor_column_names, header=1)\n",
      "/var/folders/j0/s_ktjdw15zb63yfnpyn_tdj80000gn/T/ipykernel_2296/3999586697.py:41: DtypeWarning: Columns (2) have mixed types. Specify dtype option on import or set low_memory=False.\n",
      "  df = pd.read_csv(file, names=phone_sensor_column_names, header=1)\n",
      "/var/folders/j0/s_ktjdw15zb63yfnpyn_tdj80000gn/T/ipykernel_2296/3999586697.py:41: DtypeWarning: Columns (2) have mixed types. Specify dtype option on import or set low_memory=False.\n",
      "  df = pd.read_csv(file, names=phone_sensor_column_names, header=1)\n",
      "/var/folders/j0/s_ktjdw15zb63yfnpyn_tdj80000gn/T/ipykernel_2296/3999586697.py:41: DtypeWarning: Columns (2) have mixed types. Specify dtype option on import or set low_memory=False.\n",
      "  df = pd.read_csv(file, names=phone_sensor_column_names, header=1)\n",
      "/var/folders/j0/s_ktjdw15zb63yfnpyn_tdj80000gn/T/ipykernel_2296/3999586697.py:41: DtypeWarning: Columns (2) have mixed types. Specify dtype option on import or set low_memory=False.\n",
      "  df = pd.read_csv(file, names=phone_sensor_column_names, header=1)\n",
      "/var/folders/j0/s_ktjdw15zb63yfnpyn_tdj80000gn/T/ipykernel_2296/3999586697.py:41: DtypeWarning: Columns (2) have mixed types. Specify dtype option on import or set low_memory=False.\n",
      "  df = pd.read_csv(file, names=phone_sensor_column_names, header=1)\n",
      "/var/folders/j0/s_ktjdw15zb63yfnpyn_tdj80000gn/T/ipykernel_2296/3999586697.py:70: DtypeWarning: Columns (2) have mixed types. Specify dtype option on import or set low_memory=False.\n",
      "  df = pd.read_csv(path, names=watch_sensor_column_names, header=1)\n",
      "/var/folders/j0/s_ktjdw15zb63yfnpyn_tdj80000gn/T/ipykernel_2296/3999586697.py:118: FutureWarning: 'T' is deprecated and will be removed in a future version, please use 'min' instead.\n",
      "  glucose_resampled = glucose_df.resample('5T').agg({\n",
      "/var/folders/j0/s_ktjdw15zb63yfnpyn_tdj80000gn/T/ipykernel_2296/3999586697.py:122: FutureWarning: 'T' is deprecated and will be removed in a future version, please use 'min' instead.\n",
      "  phone_resampled = phone_sensor_df.resample('5T').agg({\n",
      "/var/folders/j0/s_ktjdw15zb63yfnpyn_tdj80000gn/T/ipykernel_2296/3999586697.py:129: FutureWarning: 'T' is deprecated and will be removed in a future version, please use 'min' instead.\n",
      "  activity_resampled = phone_activity_df.resample('5T').agg({\n",
      "/var/folders/j0/s_ktjdw15zb63yfnpyn_tdj80000gn/T/ipykernel_2296/3999586697.py:135: FutureWarning: 'T' is deprecated and will be removed in a future version, please use 'min' instead.\n",
      "  watch_resampled = watch_sensor_df.resample('5T').agg({\n"
     ]
    },
    {
     "name": "stdout",
     "output_type": "stream",
     "text": [
      "Error processing User7: Passed header=1 but only 1 lines in file\n"
     ]
    },
    {
     "name": "stderr",
     "output_type": "stream",
     "text": [
      "/var/folders/j0/s_ktjdw15zb63yfnpyn_tdj80000gn/T/ipykernel_2296/3999586697.py:41: DtypeWarning: Columns (2) have mixed types. Specify dtype option on import or set low_memory=False.\n",
      "  df = pd.read_csv(file, names=phone_sensor_column_names, header=1)\n",
      "/var/folders/j0/s_ktjdw15zb63yfnpyn_tdj80000gn/T/ipykernel_2296/3999586697.py:118: FutureWarning: 'T' is deprecated and will be removed in a future version, please use 'min' instead.\n",
      "  glucose_resampled = glucose_df.resample('5T').agg({\n",
      "/var/folders/j0/s_ktjdw15zb63yfnpyn_tdj80000gn/T/ipykernel_2296/3999586697.py:122: FutureWarning: 'T' is deprecated and will be removed in a future version, please use 'min' instead.\n",
      "  phone_resampled = phone_sensor_df.resample('5T').agg({\n",
      "/var/folders/j0/s_ktjdw15zb63yfnpyn_tdj80000gn/T/ipykernel_2296/3999586697.py:129: FutureWarning: 'T' is deprecated and will be removed in a future version, please use 'min' instead.\n",
      "  activity_resampled = phone_activity_df.resample('5T').agg({\n",
      "/var/folders/j0/s_ktjdw15zb63yfnpyn_tdj80000gn/T/ipykernel_2296/3999586697.py:135: FutureWarning: 'T' is deprecated and will be removed in a future version, please use 'min' instead.\n",
      "  watch_resampled = watch_sensor_df.resample('5T').agg({\n",
      "/var/folders/j0/s_ktjdw15zb63yfnpyn_tdj80000gn/T/ipykernel_2296/3999586697.py:118: FutureWarning: 'T' is deprecated and will be removed in a future version, please use 'min' instead.\n",
      "  glucose_resampled = glucose_df.resample('5T').agg({\n",
      "/var/folders/j0/s_ktjdw15zb63yfnpyn_tdj80000gn/T/ipykernel_2296/3999586697.py:122: FutureWarning: 'T' is deprecated and will be removed in a future version, please use 'min' instead.\n",
      "  phone_resampled = phone_sensor_df.resample('5T').agg({\n",
      "/var/folders/j0/s_ktjdw15zb63yfnpyn_tdj80000gn/T/ipykernel_2296/3999586697.py:129: FutureWarning: 'T' is deprecated and will be removed in a future version, please use 'min' instead.\n",
      "  activity_resampled = phone_activity_df.resample('5T').agg({\n",
      "/var/folders/j0/s_ktjdw15zb63yfnpyn_tdj80000gn/T/ipykernel_2296/3999586697.py:135: FutureWarning: 'T' is deprecated and will be removed in a future version, please use 'min' instead.\n",
      "  watch_resampled = watch_sensor_df.resample('5T').agg({\n",
      "/var/folders/j0/s_ktjdw15zb63yfnpyn_tdj80000gn/T/ipykernel_2296/3999586697.py:158: FutureWarning: The behavior of DataFrame concatenation with empty or all-NA entries is deprecated. In a future version, this will no longer exclude empty or all-NA columns when determining the result dtypes. To retain the old behavior, exclude the relevant entries before the concat operation.\n",
      "  final_df = pd.concat(all_users, ignore_index=True)\n"
     ]
    }
   ],
   "source": [
    "# Different Approach\n",
    "import pandas as pd\n",
    "import os\n",
    "import glob\n",
    "\n",
    "user_dirs = [f for f in os.listdir('Datasets/glucdict-1/Glucdict Dataset/') if 'User' in f]\n",
    "\n",
    "glucose_column_names = [\"index\", \"timestamp\", \"glucose\", \"transmitter\", \"transmitter_id\"]\n",
    "phone_sensor_column_names = [\"phone_sensor_id\", \"timestamp\", \"phone_value1\", \"phone_value2\", \"phone_value3\"]\n",
    "watch_sensor_column_names = [\"watch_sensor_id\", \"timestamp\", \"watch_value1\", \"watch_value2\", \"watch_value3\"]\n",
    "phone_activity_column_names = ['activity_id', 'activity_name', 'timestamp', 'end_timestamp']\n",
    "\n",
    "# Load the glucose stats for the user\n",
    "def load_glucose(user_path):\n",
    "    path = f\"Datasets/glucdict-1/Glucdict Dataset/{user_path}/Glucose/\"\n",
    "    file = os.listdir(path)[0]\n",
    "    df = pd.read_csv(path+file, names=glucose_column_names, header=1)\n",
    "    df = df[[\"timestamp\", \"glucose\"]]\n",
    "    df['timestamp'] = pd.to_datetime(df['timestamp']) \n",
    "    df = df.set_index(\"timestamp\")\n",
    "    return df\n",
    "\n",
    "# Load the phone sensor data for the user\n",
    "def load_phone_sensor_data(user_path):\n",
    "    path = f\"Datasets/glucdict-1/Glucdict Dataset/{user_path}/Phone/Sensors/\"\n",
    "    try:\n",
    "        if any(\"SensorReader.csv\" in f for f in os.listdir(path)):\n",
    "            if user_path == 'User1':\n",
    "                sensor_file = 'SensorReader.csv'\n",
    "            else:\n",
    "                sensor_file = f\"{user_path}_SensorReader.csv\"\n",
    "                \n",
    "            path = f\"Datasets/glucdict-1/Glucdict Dataset/{user_path}/Phone/Sensors/{sensor_file}\"\n",
    "            df = pd.read_csv(path, names=phone_sensor_column_names, header=1)\n",
    "            df['timestamp'] = pd.to_datetime(df['timestamp'])\n",
    "            df = df.set_index(\"timestamp\")\n",
    "            return df\n",
    "        else:\n",
    "            csvs = glob.glob(os.path.join(path, \"*.csv\"))\n",
    "            frames = []\n",
    "            for file in csvs:\n",
    "                df = pd.read_csv(file, names=phone_sensor_column_names, header=1)\n",
    "                df['timestamp'] = pd.to_datetime(df['timestamp']) \n",
    "                df = df.set_index(\"timestamp\")\n",
    "                frames.append(df)\n",
    "            return df\n",
    "    except FileNotFoundError:\n",
    "        empty = pd.DataFrame(columns=phone_sensor_column_names)\n",
    "        empty['timestamp'] = pd.to_datetime(empty['timestamp'])\n",
    "        empty = empty.set_index('timestamp')\n",
    "        return empty\n",
    "        \n",
    "# Load the watch sensor data for the user \n",
    "def load_watch_sensor_data(user_path):\n",
    "    try:\n",
    "        if user_path == 'User1':\n",
    "            sensor_file = 'SensorReader.csv'\n",
    "        else:\n",
    "            sensor_file = f\"{user_path}_SensorReader.csv\"\n",
    "        path = f\"Datasets/glucdict-1/Glucdict Dataset/{user_path}/Watch/{sensor_file}\"\n",
    "        df = pd.read_csv(path, names=watch_sensor_column_names, header=1)\n",
    "        df['timestamp'] = pd.to_datetime(df['timestamp']) \n",
    "        df = df.set_index(\"timestamp\")\n",
    "        return df\n",
    "    except FileNotFoundError:\n",
    "        empty = pd.DataFrame(columns=watch_sensor_column_names)\n",
    "        empty['timestamp'] = pd.to_datetime(empty['timestamp'])\n",
    "        empty = empty.set_index('timestamp')\n",
    "        return empty\n",
    "\n",
    "# Load phone activity for the user\n",
    "def load_phone_activity_data(user_path):\n",
    "    try:\n",
    "        path = f\"Datasets/glucdict-1/Glucdict Dataset/{user_path}/Phone/Activities/\"\n",
    "        if any(\"Activities.csv\" in f for f in os.listdir(path)):\n",
    "            if user_path == 'User1':\n",
    "                activities_file = 'Activities.csv'\n",
    "            else:\n",
    "                activities_file = f\"{user_path}_Activities.csv\"\n",
    "                \n",
    "            path = f\"Datasets/glucdict-1/Glucdict Dataset/{user_path}/Phone/Activities/{activities_file}\"\n",
    "            df = pd.read_csv(path, names=phone_activity_column_names, header=1)\n",
    "            df['timestamp'] = pd.to_datetime(df['timestamp'])\n",
    "            df = df.set_index(\"timestamp\")\n",
    "            return df\n",
    "        else:\n",
    "            csvs = glob.glob(os.path.join(path, \"*.csv\"))\n",
    "            frames = []\n",
    "            for file in csvs:\n",
    "                df = pd.read_csv(file, names=phone_activity_column_names, header=1)\n",
    "                df['timestamp'] = pd.to_datetime(df['timestamp']) \n",
    "                df = df.set_index(\"timestamp\")\n",
    "                frames.append(df)\n",
    "            return df\n",
    "    except FileNotFoundError:\n",
    "        empty = pd.DataFrame(columns=phone_activity_column_names)\n",
    "        empty['timestamp'] = pd.to_datetime(empty['timestamp'])\n",
    "        empty = empty.set_index('timestamp')\n",
    "        return empty\n",
    "        \n",
    "    \n",
    "def collect_user(user_path):\n",
    "\n",
    "    # Load each source\n",
    "    glucose_df = load_glucose(user_path)\n",
    "    phone_sensor_df = load_phone_sensor_data(user_path)\n",
    "    watch_sensor_df = load_watch_sensor_data(user_path)\n",
    "    phone_activity_df = load_phone_activity_data(user_path)\n",
    "\n",
    "    # Resample the data for every 5 minutes\n",
    "    glucose_resampled = glucose_df.resample('5T').agg({\n",
    "                            'glucose': 'first'\n",
    "                        })\n",
    "    \n",
    "    phone_resampled = phone_sensor_df.resample('5T').agg({\n",
    "                            'phone_sensor_id': 'first',\n",
    "                            'phone_value1': 'first',\n",
    "                            'phone_value2': 'first',\n",
    "                            'phone_value3': 'first'\n",
    "                        })\n",
    "\n",
    "    activity_resampled = phone_activity_df.resample('5T').agg({\n",
    "                            'activity_id': 'first',\n",
    "                            'activity_name': 'first',\n",
    "                            'end_timestamp': 'first'\n",
    "                        })\n",
    "    \n",
    "    watch_resampled = watch_sensor_df.resample('5T').agg({\n",
    "                            'watch_sensor_id': 'first',\n",
    "                            'watch_value1': 'first',\n",
    "                            'watch_value2': 'first',\n",
    "                            'watch_value3': 'first'\n",
    "                        })\n",
    "\n",
    "    # Combine all sources\n",
    "    combined = glucose_resampled.join([phone_resampled, watch_resampled, activity_resampled])\n",
    "    combined[\"user\"] = user_path  # tag the user\n",
    "    return combined.reset_index()\n",
    "\n",
    "\n",
    "\n",
    "all_users = []\n",
    "\n",
    "# Loop through each user and collect all the data\n",
    "for user in user_dirs:\n",
    "    try:\n",
    "        df = collect_user(user)\n",
    "        all_users.append(df)\n",
    "    except Exception as e:\n",
    "        print(f\"Error processing {user}: {e}\")\n",
    "\n",
    "final_df = pd.concat(all_users, ignore_index=True)\n"
   ]
  },
  {
   "cell_type": "code",
   "execution_count": 182,
   "id": "0e41f6d5-14eb-42cc-8f12-2d4fcfb6a2ef",
   "metadata": {},
   "outputs": [],
   "source": [
    "# We don't know which user is actually diabetic\n",
    "# For the sake of making progress we will assume it is User1\n",
    "final_df[\"label\"] = final_df[\"user\"].apply(lambda u: 1 if u == \"User1\" else 0)\n",
    "\n",
    "\n",
    "X = final_df.drop(columns=[\"timestamp\", \"user\", \"label\"])\n",
    "X['activity_name'] = X['activity_name'].fillna(\"none\")\n",
    "X = pd.get_dummies(X) \n",
    "\n",
    "y = final_df[\"label\"]\n",
    "\n",
    "from sklearn.model_selection import train_test_split\n",
    "\n",
    "X_train, X_test, y_train, y_test = train_test_split(\n",
    "    X, y, test_size=0.2, stratify=y, random_state=42\n",
    ")\n",
    "\n"
   ]
  },
  {
   "cell_type": "code",
   "execution_count": 184,
   "id": "d289c0c4-3461-4e0d-a980-a9ffec8336d6",
   "metadata": {},
   "outputs": [
    {
     "name": "stdout",
     "output_type": "stream",
     "text": [
      "F1 Score: 0.0\n",
      "Classification Report:\n",
      "               precision    recall  f1-score   support\n",
      "\n",
      "           0       0.91      1.00      0.95      5704\n",
      "           1       0.00      0.00      0.00       567\n",
      "\n",
      "    accuracy                           0.91      6271\n",
      "   macro avg       0.45      0.50      0.48      6271\n",
      "weighted avg       0.83      0.91      0.87      6271\n",
      "\n"
     ]
    },
    {
     "name": "stderr",
     "output_type": "stream",
     "text": [
      "/Users/shooknasty/Desktop/cap4770/group_project/CAP4770-Project/venv/lib/python3.11/site-packages/sklearn/metrics/_classification.py:1565: UndefinedMetricWarning: Precision is ill-defined and being set to 0.0 in labels with no predicted samples. Use `zero_division` parameter to control this behavior.\n",
      "  _warn_prf(average, modifier, f\"{metric.capitalize()} is\", len(result))\n",
      "/Users/shooknasty/Desktop/cap4770/group_project/CAP4770-Project/venv/lib/python3.11/site-packages/sklearn/metrics/_classification.py:1565: UndefinedMetricWarning: Precision is ill-defined and being set to 0.0 in labels with no predicted samples. Use `zero_division` parameter to control this behavior.\n",
      "  _warn_prf(average, modifier, f\"{metric.capitalize()} is\", len(result))\n",
      "/Users/shooknasty/Desktop/cap4770/group_project/CAP4770-Project/venv/lib/python3.11/site-packages/sklearn/metrics/_classification.py:1565: UndefinedMetricWarning: Precision is ill-defined and being set to 0.0 in labels with no predicted samples. Use `zero_division` parameter to control this behavior.\n",
      "  _warn_prf(average, modifier, f\"{metric.capitalize()} is\", len(result))\n"
     ]
    }
   ],
   "source": [
    "from sklearn.ensemble import RandomForestClassifier\n",
    "from sklearn.metrics import f1_score, confusion_matrix, classification_report\n",
    "\n",
    "model = RandomForestClassifier(n_estimators=100, random_state=42)\n",
    "model.fit(X_train, y_train)\n",
    "\n",
    "y_pred = model.predict(X_test)\n",
    "print(\"F1 Score:\", f1_score(y_test, y_pred))\n",
    "print(\"Classification Report:\\n\", classification_report(y_test, y_pred))\n"
   ]
  },
  {
   "cell_type": "code",
   "execution_count": 158,
   "id": "113f751d-509a-414b-8b0f-f0beb9c1dd1c",
   "metadata": {},
   "outputs": [
    {
     "name": "stdout",
     "output_type": "stream",
     "text": [
      "Training time: 15.55 seconds\n"
     ]
    }
   ],
   "source": [
    "# Calculate time to train the model\n",
    "import time\n",
    "\n",
    "start = time.time()\n",
    "model.fit(X_train, y_train)\n",
    "end = time.time()\n",
    "\n",
    "print(f\"Training time: {end - start:.2f} seconds\")\n",
    "\n"
   ]
  },
  {
   "cell_type": "code",
   "execution_count": 156,
   "id": "10f92d3f-d99b-4a98-818b-7c3b63c61243",
   "metadata": {},
   "outputs": [
    {
     "name": "stdout",
     "output_type": "stream",
     "text": [
      "label\n",
      "0    5704\n",
      "1     567\n",
      "Name: count, dtype: int64\n"
     ]
    }
   ],
   "source": [
    "print(y_test.value_counts())\n"
   ]
  },
  {
   "cell_type": "code",
   "execution_count": 172,
   "id": "97d3dc2d-e984-4a72-91c5-b024b942f40c",
   "metadata": {},
   "outputs": [
    {
     "name": "stderr",
     "output_type": "stream",
     "text": [
      "/Users/shooknasty/Desktop/cap4770/group_project/CAP4770-Project/venv/lib/python3.11/site-packages/sklearn/metrics/_classification.py:1565: UndefinedMetricWarning: Precision is ill-defined and being set to 0.0 due to no predicted samples. Use `zero_division` parameter to control this behavior.\n",
      "  _warn_prf(average, modifier, f\"{metric.capitalize()} is\", len(result))\n"
     ]
    },
    {
     "data": {
      "image/png": "[encoded data removed]",
      "text/plain": [
       "<Figure size 640x480 with 1 Axes>"
      ]
     },
     "metadata": {},
     "output_type": "display_data"
    }
   ],
   "source": [
    "from sklearn.metrics import precision_score, recall_score, accuracy_score, f1_score\n",
    "import matplotlib.pyplot as plt\n",
    "\n",
    "metrics = {\n",
    "    \"Accuracy\": accuracy_score(y_test, y_pred),\n",
    "    \"Precision\": precision_score(y_test, y_pred),\n",
    "    \"Recall\": recall_score(y_test, y_pred),\n",
    "    \"F1 Score\": f1_score(y_test, y_pred)\n",
    "}\n",
    "\n",
    "plt.bar(metrics.keys(), metrics.values(), color='skyblue')\n",
    "plt.title(\"Model Evaluation Metrics\")\n",
    "plt.ylim(0, 1)\n",
    "plt.ylabel(\"Score\")\n",
    "plt.show()"
   ]
  },
  {
   "cell_type": "code",
   "execution_count": 192,
   "id": "03e05c86-4d9a-4d7a-8f4c-29f298098ba8",
   "metadata": {},
   "outputs": [
    {
     "data": {
      "image/png": "[encoded data removed]",
      "text/plain": [
       "<Figure size 800x500 with 1 Axes>"
      ]
     },
     "metadata": {},
     "output_type": "display_data"
    }
   ],
   "source": [
    "import matplotlib.pyplot as plt\n",
    "import numpy as np\n",
    "\n",
    "# Metrics from classification report\n",
    "metrics = [\"Precision\", \"Recall\", \"F1 Score\"]\n",
    "\n",
    "class_0 = [0.75, 1.00, 0.86]  # Non-diabetic\n",
    "class_1 = [0.56, 0.02, 0.03]  # Diabetic\n",
    "\n",
    "x = np.arange(len(metrics))  # the label locations\n",
    "width = 0.35  # the width of the bars\n",
    "\n",
    "# Plot\n",
    "fig, ax = plt.subplots(figsize=(8, 5))\n",
    "bars1 = ax.bar(x - width/2, class_0, width, label='Class 0 (Non-Diabetic)', color='purple')\n",
    "bars2 = ax.bar(x + width/2, class_1, width, label='Class 1 (Diabetic)', color='orange')\n",
    "\n",
    "# Labels and formatting\n",
    "ax.set_ylabel('Score')\n",
    "ax.set_title('Classification Metrics by Class')\n",
    "ax.set_xticks(x)\n",
    "ax.set_xticklabels(metrics)\n",
    "ax.set_ylim(0, 1.1)\n",
    "ax.legend()\n",
    "ax.grid(axis='y', linestyle='--', alpha=0.6)\n",
    "\n",
    "# Show the plot\n",
    "plt.tight_layout()\n",
    "plt.show()\n"
   ]
  },
  {
   "cell_type": "code",
   "execution_count": null,
   "id": "16234277-1f50-4944-a137-e15e7baab84b",
   "metadata": {},
   "outputs": [],
   "source": []
  }
 ],
 "metadata": {
  "kernelspec": {
   "display_name": "Python (venv)",
   "language": "python",
   "name": "myenv"
  },
  "language_info": {
   "codemirror_mode": {
    "name": "ipython",
    "version": 3
   },
   "file_extension": ".py",
   "mimetype": "text/x-python",
   "name": "python",
   "nbconvert_exporter": "python",
   "pygments_lexer": "ipython3",
   "version": "3.11.7"
  }
 },
 "nbformat": 4,
 "nbformat_minor": 5
}
