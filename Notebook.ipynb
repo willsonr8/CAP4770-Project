{
 "cells": [
  {
   "cell_type": "code",
   "execution_count": 8,
   "id": "59e8d3cd-0877-4013-b996-9c3cc716256c",
   "metadata": {},
   "outputs": [],
   "source": [
    "import pandas as pd\n",
    "import numpy as np\n",
    "import scipy\n",
    "import matplotlib.pyplot as plt\n",
    "import sklearn\n",
    "import pyspark\n",
    "from pathlib import Path"
   ]
  },
  {
   "cell_type": "code",
   "execution_count": 9,
   "id": "3b4df6f3-a34c-4f54-95cc-3edc9891d85c",
   "metadata": {},
   "outputs": [],
   "source": [
    "# Preprocessing"
   ]
  },
  {
   "cell_type": "code",
   "execution_count": 28,
   "id": "2c00273f-bab3-4735-8513-cfee2dc35a3e",
   "metadata": {},
   "outputs": [],
   "source": [
    "def proc_glucose(path):\n",
    "    user_value = str(path)[-2:] if str(path)[-2:].isdigit() else str(path[-1])\n",
    "    full_path = f\"{str(path).replace(\"\\\\\", \"/\")}/Glucose/CGM_User{user_value}.csv\"\n",
    "    df = pd.read_csv(full_path)\n",
    "    timestamps = df[\"Timestamp (YYYY-MM-DDThh:mm:ss)\"].tolist()\n",
    "    glucose_values = df[\"Glucose Value (mg/dL)\"].tolist()\n",
    "    return timestamps, glucose_values"
   ]
  },
  {
   "cell_type": "code",
   "execution_count": 29,
   "id": "18ef80d0-0b73-4aa4-bee7-14d0483ac9a6",
   "metadata": {},
   "outputs": [
    {
     "ename": "TypeError",
     "evalue": "'WindowsPath' object is not subscriptable",
     "output_type": "error",
     "traceback": [
      "\u001b[31m---------------------------------------------------------------------------\u001b[39m",
      "\u001b[31mTypeError\u001b[39m                                 Traceback (most recent call last)",
      "\u001b[36mCell\u001b[39m\u001b[36m \u001b[39m\u001b[32mIn[29]\u001b[39m\u001b[32m, line 3\u001b[39m\n\u001b[32m      1\u001b[39m patient_folder = Path(\u001b[33m\"\u001b[39m\u001b[33mDatasets/glucdict-1/Glucdict Dataset\u001b[39m\u001b[33m\"\u001b[39m)\n\u001b[32m      2\u001b[39m \u001b[38;5;28;01mfor\u001b[39;00m user_dir \u001b[38;5;129;01min\u001b[39;00m patient_folder.iterdir():\n\u001b[32m----> \u001b[39m\u001b[32m3\u001b[39m     timestamps, glucose_values = \u001b[43mproc_glucose\u001b[49m\u001b[43m(\u001b[49m\u001b[43muser_dir\u001b[49m\u001b[43m)\u001b[49m\n",
      "\u001b[36mCell\u001b[39m\u001b[36m \u001b[39m\u001b[32mIn[28]\u001b[39m\u001b[32m, line 2\u001b[39m, in \u001b[36mproc_glucose\u001b[39m\u001b[34m(path)\u001b[39m\n\u001b[32m      1\u001b[39m \u001b[38;5;28;01mdef\u001b[39;00m\u001b[38;5;250m \u001b[39m\u001b[34mproc_glucose\u001b[39m(path):\n\u001b[32m----> \u001b[39m\u001b[32m2\u001b[39m     user_value = \u001b[38;5;28mstr\u001b[39m(path)[-\u001b[32m2\u001b[39m:] \u001b[38;5;28;01mif\u001b[39;00m \u001b[38;5;28mstr\u001b[39m(path)[-\u001b[32m2\u001b[39m:].isdigit() \u001b[38;5;28;01melse\u001b[39;00m \u001b[38;5;28mstr\u001b[39m(\u001b[43mpath\u001b[49m\u001b[43m[\u001b[49m\u001b[43m-\u001b[49m\u001b[32;43m1\u001b[39;49m\u001b[43m]\u001b[49m)\n\u001b[32m      3\u001b[39m     full_path = \u001b[33mf\u001b[39m\u001b[33m\"\u001b[39m\u001b[38;5;132;01m{\u001b[39;00m\u001b[38;5;28mstr\u001b[39m(path).replace(\u001b[33m\"\u001b[39m\u001b[38;5;130;01m\\\\\u001b[39;00m\u001b[33m\"\u001b[39m,\u001b[38;5;250m \u001b[39m\u001b[33m\"\u001b[39m\u001b[33m/\u001b[39m\u001b[33m\"\u001b[39m)\u001b[38;5;132;01m}\u001b[39;00m\u001b[33m/Glucose/CGM_User\u001b[39m\u001b[38;5;132;01m{\u001b[39;00muser_value\u001b[38;5;132;01m}\u001b[39;00m\u001b[33m.csv\u001b[39m\u001b[33m\"\u001b[39m\n\u001b[32m      4\u001b[39m     df = pd.read_csv(full_path)\n",
      "\u001b[31mTypeError\u001b[39m: 'WindowsPath' object is not subscriptable"
     ]
    }
   ],
   "source": [
    "patient_folder = Path(\"Datasets/glucdict-1/Glucdict Dataset\")\n",
    "for user_dir in patient_folder.iterdir():\n",
    "    timestamps, glucose_values = proc_glucose(user_dir)"
   ]
  },
  {
   "cell_type": "code",
   "execution_count": null,
   "id": "35159e25-12a2-459d-874a-e7554a83c1d2",
   "metadata": {},
   "outputs": [],
   "source": []
  }
 ],
 "metadata": {
  "kernelspec": {
   "display_name": "Python (venv)",
   "language": "python",
   "name": "myenv"
  },
  "language_info": {
   "codemirror_mode": {
    "name": "ipython",
    "version": 3
   },
   "file_extension": ".py",
   "mimetype": "text/x-python",
   "name": "python",
   "nbconvert_exporter": "python",
   "pygments_lexer": "ipython3",
   "version": "3.13.1"
  }
 },
 "nbformat": 4,
 "nbformat_minor": 5
}
