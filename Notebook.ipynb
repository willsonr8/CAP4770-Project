{
 "cells": [
  {
   "cell_type": "code",
   "execution_count": 78,
   "id": "59e8d3cd-0877-4013-b996-9c3cc716256c",
   "metadata": {},
   "outputs": [],
   "source": [
    "import pandas as pd\n",
    "import numpy as np\n",
    "import scipy\n",
    "import matplotlib.pyplot as plt\n",
    "import sklearn\n",
    "import pyspark\n",
    "from pathlib import Path\n",
    "import csv\n",
    "import datetime\n",
    "import statistics"
   ]
  },
  {
   "cell_type": "code",
   "execution_count": 37,
   "id": "3b4df6f3-a34c-4f54-95cc-3edc9891d85c",
   "metadata": {},
   "outputs": [],
   "source": [
    "# Preprocessing"
   ]
  },
  {
   "cell_type": "code",
   "execution_count": 68,
   "id": "2c00273f-bab3-4735-8513-cfee2dc35a3e",
   "metadata": {},
   "outputs": [],
   "source": [
    "# returns list of timestamps and list of glucose_values for each user. Could pair them and return a combined list\n",
    "def proc_glucose(path):\n",
    "    user_value = str(path)[-2:] if str(path)[-2:].isdigit() else str(path)[-1]\n",
    "    full_path = f\"{str(path).replace(\"\\\\\", \"/\")}/Glucose/CGM_User{user_value}.csv\"\n",
    "    df = pd.read_csv(full_path)\n",
    "    timestamps = df[\"Timestamp (YYYY-MM-DDThh:mm:ss)\"].tolist()\n",
    "    glucose_values = df[\"Glucose Value (mg/dL)\"].tolist()\n",
    "    return timestamps, glucose_values, df, user_value\n",
    "\n",
    "allowed_sensor_ids = [18, 19, 21]\n",
    "\n",
    "sensor_map = {\n",
    "    1:  \"ACCELEROMETER\",\n",
    "    2:  \"MAGNETIC_FIELD\",\n",
    "    4:  \"GYROSCOPE\",\n",
    "    9:  \"GRAVITY\",\n",
    "    10: \"LINEAR_ACCELERATION\",\n",
    "    11: \"ROTATION_VECTOR\",\n",
    "    18: \"STEP_DETECTOR\",\n",
    "    19: \"STEP_COUNTER\",\n",
    "    21: \"HEART_RATE\",\n",
    "    99: \"EARTH_ACC\"\n",
    "}\n",
    "\n",
    "sensor_data = {\n",
    "    \"ACCELEROMETER\": [],\n",
    "    \"MAGNETIC_FIELD\": [],\n",
    "    \"GYROSCOPE\": [],\n",
    "    \"GRAVITY\": [],\n",
    "    \"LINEAR_ACCELERATION\": [],\n",
    "    \"ROTATION_VECTOR\": [],\n",
    "    \"STEP_DETECTOR\": [],\n",
    "    \"STEP_COUNTER\": [],\n",
    "    \"HEART_RATE\": [],\n",
    "    \"EARTH_ACC\": []\n",
    "}\n",
    "\n",
    "def proc_sensors(path, device_label):\n",
    "    chunk_list = []\n",
    "    full_path = f\"{str(path).replace(\"\\\\\", \"/\")}\"\n",
    "    for chunk in pd.read_csv(full_path, header=None, names=[\"sensor_id\", \"timestamp\", \"val1\", \"val2\", \"val3\"], chunksize=50_000, low_memory = False):\n",
    "        filtered_chunk = chunk.loc[chunk[\"sensor_id\"].isin(allowed_sensor_ids)].copy()\n",
    "        filtered_chunk[\"timestamp\"] = pd.to_datetime(filtered_chunk[\"timestamp\"], unit=\"ms\", utc=True)\n",
    "        filtered_chunk[\"device\"] = device_label\n",
    "        chunk_list.append(filtered_chunk)\n",
    "    return pd.concat(chunk_list, ignore_index = True)"
   ]
  },
  {
   "cell_type": "code",
   "execution_count": 69,
   "id": "82df003c-7e99-42ee-9911-dc04c764b879",
   "metadata": {},
   "outputs": [],
   "source": [
    "patient_dfs = {}"
   ]
  },
  {
   "cell_type": "code",
   "execution_count": 72,
   "id": "35159e25-12a2-459d-874a-e7554a83c1d2",
   "metadata": {},
   "outputs": [
    {
     "name": "stderr",
     "output_type": "stream",
     "text": [
      "C:\\Users\\wills\\AppData\\Local\\Temp\\ipykernel_51560\\2552629693.py:46: FutureWarning: The behavior of DataFrame concatenation with empty or all-NA entries is deprecated. In a future version, this will no longer exclude empty or all-NA columns when determining the result dtypes. To retain the old behavior, exclude the relevant entries before the concat operation.\n",
      "  return pd.concat(chunk_list, ignore_index = True)\n"
     ]
    }
   ],
   "source": [
    "patient_folder = Path(\"Datasets/glucdict-1/Glucdict Dataset\")\n",
    "for user_dir in patient_folder.iterdir():\n",
    "    \n",
    "    all_dfs = []\n",
    "\n",
    "    timestamps, glucose_values, gluc_df, user_value = proc_glucose(user_dir)\n",
    "\n",
    "    #all_dfs.append(gluc_df)\n",
    "    \n",
    "    phone_path = Path(f\"{user_dir}/Phone/Sensors\")\n",
    "    watch_path = Path(f\"{user_dir}/Watch\")\n",
    "    \n",
    "    if phone_path.is_dir():\n",
    "        for i in phone_path.iterdir():\n",
    "            if i.is_file() and i.suffix.lower() == '.csv':\n",
    "                df = proc_sensors(i, \"phone\")\n",
    "                all_dfs.append(df)\n",
    "    if watch_path.is_dir():\n",
    "        for j in watch_path.iterdir():\n",
    "            if j.is_file() and j.suffix.lower() == '.csv':\n",
    "                watch_sensors = proc_sensors(j, \"watch\")\n",
    "                all_dfs.append(df)\n",
    "    patient_df = pd.concat(all_dfs, ignore_index=True)\n",
    "    patient_df[\"sensor_name\"] = patient_df[\"sensor_id\"].map(sensor_map)\n",
    "    patient_dfs[f\"User {user_value}\"] = {\n",
    "        \"Sensor Data\" : patient_df,\n",
    "        \"Glucose Data\" : gluc_df\n",
    "    }"
   ]
  },
  {
   "cell_type": "code",
   "execution_count": null,
   "id": "6f086221-1a73-47a5-9cd8-253000f5c1f8",
   "metadata": {},
   "outputs": [],
   "source": []
  },
  {
   "cell_type": "code",
   "execution_count": 102,
   "id": "de938f04-6ca9-4d9d-a1e0-410ee85a6e48",
   "metadata": {},
   "outputs": [
    {
     "name": "stdout",
     "output_type": "stream",
     "text": [
      "Index(['sensor_id', 'timestamp', 'val1', 'val2', 'val3', 'device',\n",
      "       'sensor_name'],\n",
      "      dtype='object')\n",
      "dict_keys(['User 1', 'User 10', 'User 12', 'User 13', 'User 14', 'User 15', 'User 3', 'User 4', 'User 5', 'User 6', 'User 7', 'User 8', 'User 9'])\n",
      "      Index Timestamp (YYYY-MM-DDThh:mm:ss) Glucose Value (mg/dL)  \\\n",
      "0         1             2021-12-21T14:01:57                   129   \n",
      "1         2             2021-12-21T14:06:57                   138   \n",
      "2         3             2021-12-21T14:11:57                   129   \n",
      "3         4             2021-12-21T14:16:57                   108   \n",
      "4         5             2021-12-21T14:21:57                    85   \n",
      "...     ...                             ...                   ...   \n",
      "2819   2820             2021-12-31T11:37:21                   140   \n",
      "2820   2821             2021-12-31T11:42:21                   138   \n",
      "2821   2822             2021-12-31T11:47:22                   136   \n",
      "2822   2823             2021-12-31T11:52:21                   132   \n",
      "2823   2824             2021-12-31T11:57:22                   128   \n",
      "\n",
      "      Transmitter Time (Long Integer) Transmitter ID  \n",
      "0                             3530474         8RT16Y  \n",
      "1                             3530774         8RT16Y  \n",
      "2                             3531074         8RT16Y  \n",
      "3                             3531374         8RT16Y  \n",
      "4                             3531674         8RT16Y  \n",
      "...                               ...            ...  \n",
      "2819                          4385774         8RT16Y  \n",
      "2820                          4386074         8RT16Y  \n",
      "2821                          4386374         8RT16Y  \n",
      "2822                          4386674         8RT16Y  \n",
      "2823                          4386974         8RT16Y  \n",
      "\n",
      "[2824 rows x 5 columns]\n"
     ]
    }
   ],
   "source": [
    "print(patient_df.columns)\n",
    "print(patient_dfs.keys())\n",
    "print(patient_dfs['User 10']['Glucose Data'])\n",
    "#print(patient_dfs['User 1']['Sensor Data'])\n",
    "#print(patient_dfs['User 1']['Glucose Data'])"
   ]
  },
  {
   "cell_type": "code",
   "execution_count": 74,
   "id": "ca083642-cc2c-43fb-9071-fba372eb0d04",
   "metadata": {},
   "outputs": [
    {
     "name": "stdout",
     "output_type": "stream",
     "text": [
      "Index(['sensor_id', 'timestamp', 'val1', 'val2', 'val3', 'device',\n",
      "       'sensor_name'],\n",
      "      dtype='object')\n",
      "Index(['Index', 'Timestamp (YYYY-MM-DDThh:mm:ss)', 'Glucose Value (mg/dL)',\n",
      "       'Transmitter Time (Long Integer)', 'Transmitter ID'],\n",
      "      dtype='object')\n"
     ]
    }
   ],
   "source": [
    "print(patient_df.columns)\n",
    "print(gluc_df.columns)"
   ]
  },
  {
   "cell_type": "code",
   "execution_count": 107,
   "id": "09db2c6a-d93e-4d63-ae7d-07282b6deff0",
   "metadata": {},
   "outputs": [],
   "source": [
    "def get_glucose_avg():\n",
    "    user_names = []\n",
    "    glucose_avg = []\n",
    "    for user, data in patient_dfs.items():\n",
    "        gluc_df = data[\"Glucose Data\"]  \n",
    "        if \"Glucose Value (mg/dL)\" in gluc_df.columns:\n",
    "            col = \"Glucose Value (mg/dL)\"\n",
    "        else:\n",
    "            raise KeyError(f\"Glucose column not found for user {user}\")\n",
    "        \n",
    "        gluc_series = pd.to_numeric(gluc_df[col], errors='coerce')\n",
    "        valid_gluc = gluc_series[(gluc_series > 0) & (gluc_series < 1000)]\n",
    "        avg = valid_gluc.mean()\n",
    "        user_names.append(user)\n",
    "        glucose_avg.append(avg)\n",
    "        \n",
    "    return user_names, glucose_avg\n",
    "\n",
    "        "
   ]
  },
  {
   "cell_type": "code",
   "execution_count": 108,
   "id": "01ad645e-1a6b-4655-bd9c-c7c1e4385804",
   "metadata": {},
   "outputs": [],
   "source": [
    "users, glucose_avg = get_glucose_avg()"
   ]
  },
  {
   "cell_type": "code",
   "execution_count": 115,
   "id": "46b8dd7e-440c-47ac-a526-ffdca325d78c",
   "metadata": {},
   "outputs": [
    {
     "data": {
      "image/png": "[encoded data removed]",
      "text/plain": [
       "<Figure size 1000x600 with 1 Axes>"
      ]
     },
     "metadata": {},
     "output_type": "display_data"
    }
   ],
   "source": [
    "\n",
    "plt.figure(figsize=(10, 6))\n",
    "plt.bar(users, glucose_avg)\n",
    "plt.xlabel(\"User\")\n",
    "plt.ylabel(\"Avg Glucose Value\")\n",
    "plt.title(\"Avg of Glucose Values for Each User\")\n",
    "plt.xticks(rotation=45)\n",
    "plt.ylim(0, 140)\n",
    "plt.grid(axis='y', color='gray', alpha=0.5)\n",
    "plt.yticks(range(0, 141, 10))\n",
    "plt.tight_layout()\n",
    "plt.show()"
   ]
  },
  {
   "cell_type": "code",
   "execution_count": null,
   "id": "2830ebc4-fba0-4885-8079-c7c426fa6353",
   "metadata": {},
   "outputs": [],
   "source": []
  }
 ],
 "metadata": {
  "kernelspec": {
   "display_name": "Python (venv)",
   "language": "python",
   "name": "myenv"
  },
  "language_info": {
   "codemirror_mode": {
    "name": "ipython",
    "version": 3
   },
   "file_extension": ".py",
   "mimetype": "text/x-python",
   "name": "python",
   "nbconvert_exporter": "python",
   "pygments_lexer": "ipython3",
   "version": "3.13.1"
  }
 },
 "nbformat": 4,
 "nbformat_minor": 5
}
